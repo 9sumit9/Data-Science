{
 "cells": [
  {
   "cell_type": "markdown",
   "id": "102d00ec",
   "metadata": {},
   "source": [
    "## Fraud Detection in Bank Transactions"
   ]
  },
  {
   "cell_type": "markdown",
   "id": "c05b37c6",
   "metadata": {},
   "source": [
    "Name: Sumit Kumar Sangroula, Student ID: GH1040901"
   ]
  },
  {
   "cell_type": "markdown",
   "id": "eb54c511",
   "metadata": {},
   "source": [
    "### 1.  Context"
   ]
  },
  {
   "cell_type": "markdown",
   "id": "716c5102",
   "metadata": {},
   "source": [
    "The dataset contains transaction details of numerous customers of LOL Bank Pvt.Ltd. for the year 2025. Although the transactions seem ligit in financial terms, there are numerous transactions over the time which might be the cases of fraudulent acts. Our task is to detect the fraudulent transactions and minimize the effects on customers as well as the bank itself by deploying the best machine learning model. "
   ]
  },
  {
   "cell_type": "markdown",
   "id": "2402db80",
   "metadata": {},
   "source": [
    "### 2. Objective"
   ]
  },
  {
   "cell_type": "markdown",
   "id": "e41d36cc",
   "metadata": {},
   "source": [
    "1. To study the data with various exploration methods, transform them if necessary.\n",
    "2. To perform feature engineering and choose the best model for identifying the suspicious transactions from the customers' accounts.\n",
    "3. To secure the financial thefts of the customers in the future by deploying a robust fraud detection model.\n",
    "4. To build a secure transaction gateway by applying different security tools.\n",
    "5. Manually, analyzing a huge dataset for illegimate transactions is tiresome and requires huge no. of manpower and time, thus building and deploying a secured platform would eventually help reduce bank frauds."
   ]
  },
  {
   "cell_type": "markdown",
   "id": "bc97eeb1",
   "metadata": {},
   "source": [
    "### 3. Data Source"
   ]
  },
  {
   "cell_type": "markdown",
   "id": "ae4fb97f",
   "metadata": {},
   "source": [
    "We sourced the data from https://www.kaggle.com/datasets/marusagar/bank-transaction-fraud-detection/data\n",
    "* Name of the dataset: Bank Transaction Fraud Detection\n",
    "* Format: CSV\n",
    "* No. of Columns: 24\n",
    "* No. of Records: 200000"
   ]
  },
  {
   "cell_type": "markdown",
   "id": "895916f3",
   "metadata": {},
   "source": [
    "### 4. Importing necessary libraries"
   ]
  },
  {
   "cell_type": "code",
   "execution_count": 1,
   "id": "b0c0ed7a",
   "metadata": {},
   "outputs": [],
   "source": [
    "import pandas as pad\n",
    "import numpy as nmp\n",
    "import matplotlib.pyplot as pyp\n",
    "import seaborn as seb\n",
    "import warnings\n",
    "warnings.filterwarnings(\"ignore\")\n",
    "from sklearn.preprocessing import LabelEncoder, StandardScaler\n",
    "from sklearn.model_selection  import train_test_split, GridSearchCV, StratifiedKFold\n",
    "from sklearn.linear_model import LogisticRegression\n",
    "from sklearn.tree import DecisionTreeClassifier\n",
    "from sklearn.ensemble import RandomForestClassifier, GradientBoostingClassifier\n",
    "import xgboost as xgb\n",
    "from imblearn.over_sampling import SMOTE\n",
    "from sklearn.pipeline import Pipeline\n",
    "from sklearn.metrics import classification_report, precision_score, recall_score, f1_score, roc_auc_score"
   ]
  },
  {
   "cell_type": "markdown",
   "id": "de8200bd",
   "metadata": {},
   "source": [
    "Importing the dataset from the local drive.The dataset was first downloaded from the source to a local drive."
   ]
  },
  {
   "cell_type": "code",
   "execution_count": 2,
   "id": "b326ffe4",
   "metadata": {},
   "outputs": [],
   "source": [
    "data_src = \"C:/Users/Acer/Desktop/mldataset/Bank_Transaction_Fraud_Detection.csv\"\n",
    "dtf1 = pad.read_csv(data_src)"
   ]
  },
  {
   "cell_type": "markdown",
   "id": "fb2e7df5",
   "metadata": {},
   "source": [
    "### 5. Data Exploration"
   ]
  },
  {
   "cell_type": "markdown",
   "id": "52683867",
   "metadata": {},
   "source": [
    "Exploring the data thoroughly and modify it if necessary."
   ]
  },
  {
   "cell_type": "code",
   "execution_count": 3,
   "id": "89da24bc",
   "metadata": {},
   "outputs": [
    {
     "data": {
      "text/html": [
       "<div>\n",
       "<style scoped>\n",
       "    .dataframe tbody tr th:only-of-type {\n",
       "        vertical-align: middle;\n",
       "    }\n",
       "\n",
       "    .dataframe tbody tr th {\n",
       "        vertical-align: top;\n",
       "    }\n",
       "\n",
       "    .dataframe thead th {\n",
       "        text-align: right;\n",
       "    }\n",
       "</style>\n",
       "<table border=\"1\" class=\"dataframe\">\n",
       "  <thead>\n",
       "    <tr style=\"text-align: right;\">\n",
       "      <th></th>\n",
       "      <th>Customer_ID</th>\n",
       "      <th>Customer_Name</th>\n",
       "      <th>Gender</th>\n",
       "      <th>Age</th>\n",
       "      <th>State</th>\n",
       "      <th>City</th>\n",
       "      <th>Bank_Branch</th>\n",
       "      <th>Account_Type</th>\n",
       "      <th>Transaction_ID</th>\n",
       "      <th>Transaction_Date</th>\n",
       "      <th>...</th>\n",
       "      <th>Merchant_Category</th>\n",
       "      <th>Account_Balance</th>\n",
       "      <th>Transaction_Device</th>\n",
       "      <th>Transaction_Location</th>\n",
       "      <th>Device_Type</th>\n",
       "      <th>Is_Fraud</th>\n",
       "      <th>Transaction_Currency</th>\n",
       "      <th>Customer_Contact</th>\n",
       "      <th>Transaction_Description</th>\n",
       "      <th>Customer_Email</th>\n",
       "    </tr>\n",
       "  </thead>\n",
       "  <tbody>\n",
       "    <tr>\n",
       "      <th>0</th>\n",
       "      <td>d5f6ec07-d69e-4f47-b9b4-7c58ff17c19e</td>\n",
       "      <td>Osha Tella</td>\n",
       "      <td>Male</td>\n",
       "      <td>60</td>\n",
       "      <td>Kerala</td>\n",
       "      <td>Thiruvananthapuram</td>\n",
       "      <td>Thiruvananthapuram Branch</td>\n",
       "      <td>Savings</td>\n",
       "      <td>4fa3208f-9e23-42dc-b330-844829d0c12c</td>\n",
       "      <td>23-01-2025</td>\n",
       "      <td>...</td>\n",
       "      <td>Restaurant</td>\n",
       "      <td>74557.27</td>\n",
       "      <td>Voice Assistant</td>\n",
       "      <td>Thiruvananthapuram, Kerala</td>\n",
       "      <td>POS</td>\n",
       "      <td>0</td>\n",
       "      <td>INR</td>\n",
       "      <td>+9198579XXXXXX</td>\n",
       "      <td>Bitcoin transaction</td>\n",
       "      <td>oshaXXXXX@XXXXX.com</td>\n",
       "    </tr>\n",
       "    <tr>\n",
       "      <th>1</th>\n",
       "      <td>7c14ad51-781a-4db9-b7bd-67439c175262</td>\n",
       "      <td>Hredhaan Khosla</td>\n",
       "      <td>Female</td>\n",
       "      <td>51</td>\n",
       "      <td>Maharashtra</td>\n",
       "      <td>Nashik</td>\n",
       "      <td>Nashik Branch</td>\n",
       "      <td>Business</td>\n",
       "      <td>c9de0c06-2c4c-40a9-97ed-3c7b8f97c79c</td>\n",
       "      <td>11-01-2025</td>\n",
       "      <td>...</td>\n",
       "      <td>Restaurant</td>\n",
       "      <td>74622.66</td>\n",
       "      <td>POS Mobile Device</td>\n",
       "      <td>Nashik, Maharashtra</td>\n",
       "      <td>Desktop</td>\n",
       "      <td>0</td>\n",
       "      <td>INR</td>\n",
       "      <td>+9191074XXXXXX</td>\n",
       "      <td>Grocery delivery</td>\n",
       "      <td>hredhaanXXXX@XXXXXX.com</td>\n",
       "    </tr>\n",
       "    <tr>\n",
       "      <th>2</th>\n",
       "      <td>3a73a0e5-d4da-45aa-85f3-528413900a35</td>\n",
       "      <td>Ekani Nazareth</td>\n",
       "      <td>Male</td>\n",
       "      <td>20</td>\n",
       "      <td>Bihar</td>\n",
       "      <td>Bhagalpur</td>\n",
       "      <td>Bhagalpur Branch</td>\n",
       "      <td>Savings</td>\n",
       "      <td>e41c55f9-c016-4ff3-872b-cae72467c75c</td>\n",
       "      <td>25-01-2025</td>\n",
       "      <td>...</td>\n",
       "      <td>Groceries</td>\n",
       "      <td>66817.99</td>\n",
       "      <td>ATM</td>\n",
       "      <td>Bhagalpur, Bihar</td>\n",
       "      <td>Desktop</td>\n",
       "      <td>0</td>\n",
       "      <td>INR</td>\n",
       "      <td>+9197745XXXXXX</td>\n",
       "      <td>Mutual fund investment</td>\n",
       "      <td>ekaniXXX@XXXXXX.com</td>\n",
       "    </tr>\n",
       "    <tr>\n",
       "      <th>3</th>\n",
       "      <td>7902f4ef-9050-4a79-857d-9c2ea3181940</td>\n",
       "      <td>Yamini Ramachandran</td>\n",
       "      <td>Female</td>\n",
       "      <td>57</td>\n",
       "      <td>Tamil Nadu</td>\n",
       "      <td>Chennai</td>\n",
       "      <td>Chennai Branch</td>\n",
       "      <td>Business</td>\n",
       "      <td>7f7ee11b-ff2c-45a3-802a-49bc47c02ecb</td>\n",
       "      <td>19-01-2025</td>\n",
       "      <td>...</td>\n",
       "      <td>Entertainment</td>\n",
       "      <td>58177.08</td>\n",
       "      <td>POS Mobile App</td>\n",
       "      <td>Chennai, Tamil Nadu</td>\n",
       "      <td>Mobile</td>\n",
       "      <td>0</td>\n",
       "      <td>INR</td>\n",
       "      <td>+9195889XXXXXX</td>\n",
       "      <td>Food delivery</td>\n",
       "      <td>yaminiXXXXX@XXXXXXX.com</td>\n",
       "    </tr>\n",
       "    <tr>\n",
       "      <th>4</th>\n",
       "      <td>3a4bba70-d9a9-4c5f-8b92-1735fd8c19e9</td>\n",
       "      <td>Kritika Rege</td>\n",
       "      <td>Female</td>\n",
       "      <td>43</td>\n",
       "      <td>Punjab</td>\n",
       "      <td>Amritsar</td>\n",
       "      <td>Amritsar Branch</td>\n",
       "      <td>Savings</td>\n",
       "      <td>f8e6ac6f-81a1-4985-bf12-f60967d852ef</td>\n",
       "      <td>30-01-2025</td>\n",
       "      <td>...</td>\n",
       "      <td>Entertainment</td>\n",
       "      <td>16108.56</td>\n",
       "      <td>Virtual Card</td>\n",
       "      <td>Amritsar, Punjab</td>\n",
       "      <td>Mobile</td>\n",
       "      <td>0</td>\n",
       "      <td>INR</td>\n",
       "      <td>+9195316XXXXXX</td>\n",
       "      <td>Debt repayment</td>\n",
       "      <td>kritikaXXXX@XXXXXX.com</td>\n",
       "    </tr>\n",
       "  </tbody>\n",
       "</table>\n",
       "<p>5 rows × 24 columns</p>\n",
       "</div>"
      ],
      "text/plain": [
       "                            Customer_ID        Customer_Name  Gender  Age  \\\n",
       "0  d5f6ec07-d69e-4f47-b9b4-7c58ff17c19e           Osha Tella    Male   60   \n",
       "1  7c14ad51-781a-4db9-b7bd-67439c175262      Hredhaan Khosla  Female   51   \n",
       "2  3a73a0e5-d4da-45aa-85f3-528413900a35       Ekani Nazareth    Male   20   \n",
       "3  7902f4ef-9050-4a79-857d-9c2ea3181940  Yamini Ramachandran  Female   57   \n",
       "4  3a4bba70-d9a9-4c5f-8b92-1735fd8c19e9         Kritika Rege  Female   43   \n",
       "\n",
       "         State                City                Bank_Branch Account_Type  \\\n",
       "0       Kerala  Thiruvananthapuram  Thiruvananthapuram Branch      Savings   \n",
       "1  Maharashtra              Nashik              Nashik Branch     Business   \n",
       "2        Bihar           Bhagalpur           Bhagalpur Branch      Savings   \n",
       "3   Tamil Nadu             Chennai             Chennai Branch     Business   \n",
       "4       Punjab            Amritsar            Amritsar Branch      Savings   \n",
       "\n",
       "                         Transaction_ID Transaction_Date  ...  \\\n",
       "0  4fa3208f-9e23-42dc-b330-844829d0c12c       23-01-2025  ...   \n",
       "1  c9de0c06-2c4c-40a9-97ed-3c7b8f97c79c       11-01-2025  ...   \n",
       "2  e41c55f9-c016-4ff3-872b-cae72467c75c       25-01-2025  ...   \n",
       "3  7f7ee11b-ff2c-45a3-802a-49bc47c02ecb       19-01-2025  ...   \n",
       "4  f8e6ac6f-81a1-4985-bf12-f60967d852ef       30-01-2025  ...   \n",
       "\n",
       "  Merchant_Category  Account_Balance Transaction_Device  \\\n",
       "0        Restaurant         74557.27    Voice Assistant   \n",
       "1        Restaurant         74622.66  POS Mobile Device   \n",
       "2         Groceries         66817.99                ATM   \n",
       "3     Entertainment         58177.08     POS Mobile App   \n",
       "4     Entertainment         16108.56       Virtual Card   \n",
       "\n",
       "         Transaction_Location Device_Type  Is_Fraud Transaction_Currency  \\\n",
       "0  Thiruvananthapuram, Kerala         POS         0                  INR   \n",
       "1         Nashik, Maharashtra     Desktop         0                  INR   \n",
       "2            Bhagalpur, Bihar     Desktop         0                  INR   \n",
       "3         Chennai, Tamil Nadu      Mobile         0                  INR   \n",
       "4            Amritsar, Punjab      Mobile         0                  INR   \n",
       "\n",
       "  Customer_Contact Transaction_Description           Customer_Email  \n",
       "0   +9198579XXXXXX     Bitcoin transaction      oshaXXXXX@XXXXX.com  \n",
       "1   +9191074XXXXXX        Grocery delivery  hredhaanXXXX@XXXXXX.com  \n",
       "2   +9197745XXXXXX  Mutual fund investment      ekaniXXX@XXXXXX.com  \n",
       "3   +9195889XXXXXX           Food delivery  yaminiXXXXX@XXXXXXX.com  \n",
       "4   +9195316XXXXXX          Debt repayment   kritikaXXXX@XXXXXX.com  \n",
       "\n",
       "[5 rows x 24 columns]"
      ]
     },
     "execution_count": 3,
     "metadata": {},
     "output_type": "execute_result"
    }
   ],
   "source": [
    "dtf1.head()"
   ]
  },
  {
   "cell_type": "code",
   "execution_count": 4,
   "id": "26f4d171",
   "metadata": {
    "scrolled": true
   },
   "outputs": [
    {
     "name": "stdout",
     "output_type": "stream",
     "text": [
      "<class 'pandas.core.frame.DataFrame'>\n",
      "RangeIndex: 200000 entries, 0 to 199999\n",
      "Data columns (total 24 columns):\n",
      " #   Column                   Non-Null Count   Dtype  \n",
      "---  ------                   --------------   -----  \n",
      " 0   Customer_ID              200000 non-null  object \n",
      " 1   Customer_Name            200000 non-null  object \n",
      " 2   Gender                   200000 non-null  object \n",
      " 3   Age                      200000 non-null  int64  \n",
      " 4   State                    200000 non-null  object \n",
      " 5   City                     200000 non-null  object \n",
      " 6   Bank_Branch              200000 non-null  object \n",
      " 7   Account_Type             200000 non-null  object \n",
      " 8   Transaction_ID           200000 non-null  object \n",
      " 9   Transaction_Date         200000 non-null  object \n",
      " 10  Transaction_Time         200000 non-null  object \n",
      " 11  Transaction_Amount       200000 non-null  float64\n",
      " 12  Merchant_ID              200000 non-null  object \n",
      " 13  Transaction_Type         200000 non-null  object \n",
      " 14  Merchant_Category        200000 non-null  object \n",
      " 15  Account_Balance          200000 non-null  float64\n",
      " 16  Transaction_Device       200000 non-null  object \n",
      " 17  Transaction_Location     200000 non-null  object \n",
      " 18  Device_Type              200000 non-null  object \n",
      " 19  Is_Fraud                 200000 non-null  int64  \n",
      " 20  Transaction_Currency     200000 non-null  object \n",
      " 21  Customer_Contact         200000 non-null  object \n",
      " 22  Transaction_Description  200000 non-null  object \n",
      " 23  Customer_Email           200000 non-null  object \n",
      "dtypes: float64(2), int64(2), object(20)\n",
      "memory usage: 36.6+ MB\n"
     ]
    }
   ],
   "source": [
    "dtf1.info()"
   ]
  },
  {
   "cell_type": "code",
   "execution_count": 5,
   "id": "072df3c8",
   "metadata": {},
   "outputs": [
    {
     "data": {
      "text/plain": [
       "(200000, 24)"
      ]
     },
     "execution_count": 5,
     "metadata": {},
     "output_type": "execute_result"
    }
   ],
   "source": [
    "dtf1.shape"
   ]
  },
  {
   "cell_type": "markdown",
   "id": "d6cc35c1",
   "metadata": {},
   "source": [
    "### 6. Data Cleaning"
   ]
  },
  {
   "cell_type": "code",
   "execution_count": 6,
   "id": "27ff5de4",
   "metadata": {
    "scrolled": true
   },
   "outputs": [
    {
     "data": {
      "text/html": [
       "<div>\n",
       "<style scoped>\n",
       "    .dataframe tbody tr th:only-of-type {\n",
       "        vertical-align: middle;\n",
       "    }\n",
       "\n",
       "    .dataframe tbody tr th {\n",
       "        vertical-align: top;\n",
       "    }\n",
       "\n",
       "    .dataframe thead th {\n",
       "        text-align: right;\n",
       "    }\n",
       "</style>\n",
       "<table border=\"1\" class=\"dataframe\">\n",
       "  <thead>\n",
       "    <tr style=\"text-align: right;\">\n",
       "      <th></th>\n",
       "      <th>Gender</th>\n",
       "      <th>Age</th>\n",
       "      <th>State</th>\n",
       "      <th>City</th>\n",
       "      <th>Bank_Branch</th>\n",
       "      <th>Account_Type</th>\n",
       "      <th>Transaction_Date</th>\n",
       "      <th>Transaction_Amount</th>\n",
       "      <th>Transaction_Type</th>\n",
       "      <th>Merchant_Category</th>\n",
       "      <th>Account_Balance</th>\n",
       "      <th>Transaction_Device</th>\n",
       "      <th>Transaction_Location</th>\n",
       "      <th>Device_Type</th>\n",
       "      <th>Is_Fraud</th>\n",
       "    </tr>\n",
       "  </thead>\n",
       "  <tbody>\n",
       "    <tr>\n",
       "      <th>0</th>\n",
       "      <td>Male</td>\n",
       "      <td>60</td>\n",
       "      <td>Kerala</td>\n",
       "      <td>Thiruvananthapuram</td>\n",
       "      <td>Thiruvananthapuram Branch</td>\n",
       "      <td>Savings</td>\n",
       "      <td>23-01-2025</td>\n",
       "      <td>32415.45</td>\n",
       "      <td>Transfer</td>\n",
       "      <td>Restaurant</td>\n",
       "      <td>74557.27</td>\n",
       "      <td>Voice Assistant</td>\n",
       "      <td>Thiruvananthapuram, Kerala</td>\n",
       "      <td>POS</td>\n",
       "      <td>0</td>\n",
       "    </tr>\n",
       "    <tr>\n",
       "      <th>1</th>\n",
       "      <td>Female</td>\n",
       "      <td>51</td>\n",
       "      <td>Maharashtra</td>\n",
       "      <td>Nashik</td>\n",
       "      <td>Nashik Branch</td>\n",
       "      <td>Business</td>\n",
       "      <td>11-01-2025</td>\n",
       "      <td>43622.60</td>\n",
       "      <td>Bill Payment</td>\n",
       "      <td>Restaurant</td>\n",
       "      <td>74622.66</td>\n",
       "      <td>POS Mobile Device</td>\n",
       "      <td>Nashik, Maharashtra</td>\n",
       "      <td>Desktop</td>\n",
       "      <td>0</td>\n",
       "    </tr>\n",
       "    <tr>\n",
       "      <th>2</th>\n",
       "      <td>Male</td>\n",
       "      <td>20</td>\n",
       "      <td>Bihar</td>\n",
       "      <td>Bhagalpur</td>\n",
       "      <td>Bhagalpur Branch</td>\n",
       "      <td>Savings</td>\n",
       "      <td>25-01-2025</td>\n",
       "      <td>63062.56</td>\n",
       "      <td>Bill Payment</td>\n",
       "      <td>Groceries</td>\n",
       "      <td>66817.99</td>\n",
       "      <td>ATM</td>\n",
       "      <td>Bhagalpur, Bihar</td>\n",
       "      <td>Desktop</td>\n",
       "      <td>0</td>\n",
       "    </tr>\n",
       "    <tr>\n",
       "      <th>3</th>\n",
       "      <td>Female</td>\n",
       "      <td>57</td>\n",
       "      <td>Tamil Nadu</td>\n",
       "      <td>Chennai</td>\n",
       "      <td>Chennai Branch</td>\n",
       "      <td>Business</td>\n",
       "      <td>19-01-2025</td>\n",
       "      <td>14000.72</td>\n",
       "      <td>Debit</td>\n",
       "      <td>Entertainment</td>\n",
       "      <td>58177.08</td>\n",
       "      <td>POS Mobile App</td>\n",
       "      <td>Chennai, Tamil Nadu</td>\n",
       "      <td>Mobile</td>\n",
       "      <td>0</td>\n",
       "    </tr>\n",
       "    <tr>\n",
       "      <th>4</th>\n",
       "      <td>Female</td>\n",
       "      <td>43</td>\n",
       "      <td>Punjab</td>\n",
       "      <td>Amritsar</td>\n",
       "      <td>Amritsar Branch</td>\n",
       "      <td>Savings</td>\n",
       "      <td>30-01-2025</td>\n",
       "      <td>18335.16</td>\n",
       "      <td>Transfer</td>\n",
       "      <td>Entertainment</td>\n",
       "      <td>16108.56</td>\n",
       "      <td>Virtual Card</td>\n",
       "      <td>Amritsar, Punjab</td>\n",
       "      <td>Mobile</td>\n",
       "      <td>0</td>\n",
       "    </tr>\n",
       "  </tbody>\n",
       "</table>\n",
       "</div>"
      ],
      "text/plain": [
       "   Gender  Age        State                City                Bank_Branch  \\\n",
       "0    Male   60       Kerala  Thiruvananthapuram  Thiruvananthapuram Branch   \n",
       "1  Female   51  Maharashtra              Nashik              Nashik Branch   \n",
       "2    Male   20        Bihar           Bhagalpur           Bhagalpur Branch   \n",
       "3  Female   57   Tamil Nadu             Chennai             Chennai Branch   \n",
       "4  Female   43       Punjab            Amritsar            Amritsar Branch   \n",
       "\n",
       "  Account_Type Transaction_Date  Transaction_Amount Transaction_Type  \\\n",
       "0      Savings       23-01-2025            32415.45         Transfer   \n",
       "1     Business       11-01-2025            43622.60     Bill Payment   \n",
       "2      Savings       25-01-2025            63062.56     Bill Payment   \n",
       "3     Business       19-01-2025            14000.72            Debit   \n",
       "4      Savings       30-01-2025            18335.16         Transfer   \n",
       "\n",
       "  Merchant_Category  Account_Balance Transaction_Device  \\\n",
       "0        Restaurant         74557.27    Voice Assistant   \n",
       "1        Restaurant         74622.66  POS Mobile Device   \n",
       "2         Groceries         66817.99                ATM   \n",
       "3     Entertainment         58177.08     POS Mobile App   \n",
       "4     Entertainment         16108.56       Virtual Card   \n",
       "\n",
       "         Transaction_Location Device_Type  Is_Fraud  \n",
       "0  Thiruvananthapuram, Kerala         POS         0  \n",
       "1         Nashik, Maharashtra     Desktop         0  \n",
       "2            Bhagalpur, Bihar     Desktop         0  \n",
       "3         Chennai, Tamil Nadu      Mobile         0  \n",
       "4            Amritsar, Punjab      Mobile         0  "
      ]
     },
     "execution_count": 6,
     "metadata": {},
     "output_type": "execute_result"
    }
   ],
   "source": [
    "dtf1 = dtf1.drop(['Customer_ID','Customer_Name', 'Merchant_ID', 'Transaction_Time', 'Transaction_ID', 'Transaction_Currency', 'Customer_Email', 'Customer_Contact', 'Transaction_Description'], axis=1 )\n",
    "dtf1.head()"
   ]
  },
  {
   "cell_type": "markdown",
   "id": "c186babc",
   "metadata": {},
   "source": [
    "Checking the presence of Null and Duplicate Values"
   ]
  },
  {
   "cell_type": "code",
   "execution_count": 7,
   "id": "d0aa479c",
   "metadata": {},
   "outputs": [
    {
     "data": {
      "text/plain": [
       "0"
      ]
     },
     "execution_count": 7,
     "metadata": {},
     "output_type": "execute_result"
    }
   ],
   "source": [
    "dtf1.duplicated().sum()"
   ]
  },
  {
   "cell_type": "code",
   "execution_count": 8,
   "id": "7204db02",
   "metadata": {
    "scrolled": false
   },
   "outputs": [
    {
     "data": {
      "text/plain": [
       "Gender                  0\n",
       "Age                     0\n",
       "State                   0\n",
       "City                    0\n",
       "Bank_Branch             0\n",
       "Account_Type            0\n",
       "Transaction_Date        0\n",
       "Transaction_Amount      0\n",
       "Transaction_Type        0\n",
       "Merchant_Category       0\n",
       "Account_Balance         0\n",
       "Transaction_Device      0\n",
       "Transaction_Location    0\n",
       "Device_Type             0\n",
       "Is_Fraud                0\n",
       "dtype: int64"
      ]
     },
     "execution_count": 8,
     "metadata": {},
     "output_type": "execute_result"
    }
   ],
   "source": [
    "#Checking and showing the total null values in each column. \n",
    "dtf1.isnull().sum() "
   ]
  },
  {
   "cell_type": "markdown",
   "id": "818f56b1",
   "metadata": {},
   "source": [
    "There is no presence of null values in our dataset."
   ]
  },
  {
   "cell_type": "markdown",
   "id": "96781521",
   "metadata": {},
   "source": [
    "### 7. Exploratory Data Analysis"
   ]
  },
  {
   "cell_type": "markdown",
   "id": "0e7b2ba3",
   "metadata": {},
   "source": [
    "Checking total no. of fraud cases."
   ]
  },
  {
   "cell_type": "code",
   "execution_count": 9,
   "id": "c106df97",
   "metadata": {},
   "outputs": [
    {
     "name": "stdout",
     "output_type": "stream",
     "text": [
      "<class 'pandas.core.frame.DataFrame'>\n",
      "RangeIndex: 200000 entries, 0 to 199999\n",
      "Data columns (total 15 columns):\n",
      " #   Column                Non-Null Count   Dtype  \n",
      "---  ------                --------------   -----  \n",
      " 0   Gender                200000 non-null  object \n",
      " 1   Age                   200000 non-null  int64  \n",
      " 2   State                 200000 non-null  object \n",
      " 3   City                  200000 non-null  object \n",
      " 4   Bank_Branch           200000 non-null  object \n",
      " 5   Account_Type          200000 non-null  object \n",
      " 6   Transaction_Date      200000 non-null  object \n",
      " 7   Transaction_Amount    200000 non-null  float64\n",
      " 8   Transaction_Type      200000 non-null  object \n",
      " 9   Merchant_Category     200000 non-null  object \n",
      " 10  Account_Balance       200000 non-null  float64\n",
      " 11  Transaction_Device    200000 non-null  object \n",
      " 12  Transaction_Location  200000 non-null  object \n",
      " 13  Device_Type           200000 non-null  object \n",
      " 14  Is_Fraud              200000 non-null  int64  \n",
      "dtypes: float64(2), int64(2), object(11)\n",
      "memory usage: 22.9+ MB\n"
     ]
    }
   ],
   "source": [
    "dtf1.info()"
   ]
  },
  {
   "cell_type": "code",
   "execution_count": 10,
   "id": "c1ee0638",
   "metadata": {},
   "outputs": [
    {
     "data": {
      "text/plain": [
       "Is_Fraud\n",
       "0    189912\n",
       "1     10088\n",
       "Name: count, dtype: int64"
      ]
     },
     "execution_count": 10,
     "metadata": {},
     "output_type": "execute_result"
    }
   ],
   "source": [
    "dtf1['Is_Fraud'].value_counts()"
   ]
  },
  {
   "cell_type": "markdown",
   "id": "2a78d94b",
   "metadata": {},
   "source": [
    "Calculation of total amount of fraud transactions."
   ]
  },
  {
   "cell_type": "code",
   "execution_count": 11,
   "id": "053101f2",
   "metadata": {},
   "outputs": [
    {
     "data": {
      "text/plain": [
       "497115709.84"
      ]
     },
     "execution_count": 11,
     "metadata": {},
     "output_type": "execute_result"
    }
   ],
   "source": [
    "dtf1[dtf1['Is_Fraud'] == 1]['Transaction_Amount'].sum()"
   ]
  },
  {
   "cell_type": "markdown",
   "id": "f83eb951",
   "metadata": {},
   "source": [
    "Fraud detection according to Account_Type."
   ]
  },
  {
   "cell_type": "code",
   "execution_count": 12,
   "id": "6e315c91",
   "metadata": {},
   "outputs": [
    {
     "data": {
      "text/plain": [
       "Account_Type\n",
       "Business    3436\n",
       "Savings     3349\n",
       "Checking    3303\n",
       "Name: Is_Fraud, dtype: int64"
      ]
     },
     "execution_count": 12,
     "metadata": {},
     "output_type": "execute_result"
    }
   ],
   "source": [
    "dtf1[dtf1['Is_Fraud'] == 1].groupby(['Account_Type'])['Is_Fraud'].count().sort_values(ascending=False) #Fraud detection according to Account_Type."
   ]
  },
  {
   "cell_type": "markdown",
   "id": "ca54a13a",
   "metadata": {},
   "source": [
    "Fraud detection according to Merchant_Category."
   ]
  },
  {
   "cell_type": "code",
   "execution_count": 13,
   "id": "0569a8f6",
   "metadata": {},
   "outputs": [
    {
     "data": {
      "text/plain": [
       "Merchant_Category\n",
       "Clothing         1734\n",
       "Groceries        1722\n",
       "Restaurant       1688\n",
       "Electronics      1681\n",
       "Health           1651\n",
       "Entertainment    1612\n",
       "Name: Is_Fraud, dtype: int64"
      ]
     },
     "execution_count": 13,
     "metadata": {},
     "output_type": "execute_result"
    }
   ],
   "source": [
    "dtf1[dtf1['Is_Fraud'] == 1].groupby(['Merchant_Category'])['Is_Fraud'].count().sort_values(ascending=False) #Finding the category where fraud transactions occur more."
   ]
  },
  {
   "cell_type": "markdown",
   "id": "254f84f3",
   "metadata": {},
   "source": [
    "Checking which month has the maximum fraud cases."
   ]
  },
  {
   "cell_type": "code",
   "execution_count": 14,
   "id": "507937aa",
   "metadata": {},
   "outputs": [
    {
     "data": {
      "text/plain": [
       "Transaction_Date\n",
       "01-01-2025    355\n",
       "02-01-2025    347\n",
       "03-01-2025    339\n",
       "04-01-2025    307\n",
       "05-01-2025    344\n",
       "Name: Is_Fraud, dtype: int64"
      ]
     },
     "execution_count": 14,
     "metadata": {},
     "output_type": "execute_result"
    }
   ],
   "source": [
    "dtf1[dtf1['Is_Fraud'] == 1].groupby('Transaction_Date')['Is_Fraud'].count().head(5) #Showing the top 5 months with max fraud cases."
   ]
  },
  {
   "cell_type": "markdown",
   "id": "8244104e",
   "metadata": {},
   "source": [
    "Most of the frauds were detected during the first month of 2025."
   ]
  },
  {
   "cell_type": "markdown",
   "id": "e2d0b078",
   "metadata": {},
   "source": [
    "Finding out which devices were mostly used for fraud transactions."
   ]
  },
  {
   "cell_type": "code",
   "execution_count": 15,
   "id": "f824b6ec",
   "metadata": {},
   "outputs": [
    {
     "data": {
      "text/plain": [
       "Device_Type\n",
       "Desktop    2544\n",
       "POS        2533\n",
       "ATM        2518\n",
       "Mobile     2493\n",
       "Name: Is_Fraud, dtype: int64"
      ]
     },
     "execution_count": 15,
     "metadata": {},
     "output_type": "execute_result"
    }
   ],
   "source": [
    "dtf1[dtf1['Is_Fraud'] == 1].groupby(['Device_Type'])['Is_Fraud'].count().sort_values(ascending=False)"
   ]
  },
  {
   "cell_type": "markdown",
   "id": "efd554ee",
   "metadata": {},
   "source": [
    "### 8. Feature Engineering"
   ]
  },
  {
   "cell_type": "code",
   "execution_count": 16,
   "id": "f61b1809",
   "metadata": {},
   "outputs": [
    {
     "name": "stdout",
     "output_type": "stream",
     "text": [
      "Index(['Gender', 'State', 'City', 'Bank_Branch', 'Account_Type',\n",
      "       'Transaction_Date', 'Transaction_Type', 'Merchant_Category',\n",
      "       'Transaction_Device', 'Transaction_Location', 'Device_Type'],\n",
      "      dtype='object')\n"
     ]
    }
   ],
   "source": [
    "cat_fts = dtf1.select_dtypes(include = 'object' )\n",
    "print(cat_fts.columns)"
   ]
  },
  {
   "cell_type": "code",
   "execution_count": 17,
   "id": "c274c649",
   "metadata": {},
   "outputs": [],
   "source": [
    "#Encoding and transforming categorical attributes (It changes categorical attributes to numerical attributes)\n",
    "lbe = LabelEncoder()\n",
    "for col in cat_fts :\n",
    "    dtf1[col] = lbe.fit_transform(dtf1[col]) #Fitting the selected catagorical values."
   ]
  },
  {
   "cell_type": "code",
   "execution_count": 18,
   "id": "53f84259",
   "metadata": {},
   "outputs": [
    {
     "name": "stdout",
     "output_type": "stream",
     "text": [
      "Index(['Gender', 'Age', 'State', 'City', 'Bank_Branch', 'Account_Type',\n",
      "       'Transaction_Date', 'Transaction_Amount', 'Transaction_Type',\n",
      "       'Merchant_Category', 'Account_Balance', 'Transaction_Device',\n",
      "       'Transaction_Location', 'Device_Type', 'Is_Fraud'],\n",
      "      dtype='object')\n"
     ]
    }
   ],
   "source": [
    "num_fts = dtf1.select_dtypes(exclude = 'object' )\n",
    "print(num_fts.columns)"
   ]
  },
  {
   "cell_type": "code",
   "execution_count": 19,
   "id": "f07ebcdc",
   "metadata": {},
   "outputs": [],
   "source": [
    "#Scaling and fitting numerical attributes   \n",
    "slr = StandardScaler() #Assigning standarscaler method to a varible\n",
    "num_fts = ['Age','Transaction_Amount','Account_Balance'] #Selecting columns with numerical values. We won't include Is_Fraud since we are detecting whether the transaction is fraud or not.\n",
    "dtf1[num_fts] = slr.fit_transform(dtf1[num_fts]) #Fitting numerical values using Standard Scaler."
   ]
  },
  {
   "cell_type": "markdown",
   "id": "34ca0231",
   "metadata": {},
   "source": [
    "Checking attributes after encoding and scaling categorical and numerical attributes respectively."
   ]
  },
  {
   "cell_type": "code",
   "execution_count": 20,
   "id": "13abec82",
   "metadata": {},
   "outputs": [
    {
     "data": {
      "text/html": [
       "<div>\n",
       "<style scoped>\n",
       "    .dataframe tbody tr th:only-of-type {\n",
       "        vertical-align: middle;\n",
       "    }\n",
       "\n",
       "    .dataframe tbody tr th {\n",
       "        vertical-align: top;\n",
       "    }\n",
       "\n",
       "    .dataframe thead th {\n",
       "        text-align: right;\n",
       "    }\n",
       "</style>\n",
       "<table border=\"1\" class=\"dataframe\">\n",
       "  <thead>\n",
       "    <tr style=\"text-align: right;\">\n",
       "      <th></th>\n",
       "      <th>Gender</th>\n",
       "      <th>Age</th>\n",
       "      <th>State</th>\n",
       "      <th>City</th>\n",
       "      <th>Bank_Branch</th>\n",
       "      <th>Account_Type</th>\n",
       "      <th>Transaction_Date</th>\n",
       "      <th>Transaction_Amount</th>\n",
       "      <th>Transaction_Type</th>\n",
       "      <th>Merchant_Category</th>\n",
       "      <th>Account_Balance</th>\n",
       "      <th>Transaction_Device</th>\n",
       "      <th>Transaction_Location</th>\n",
       "      <th>Device_Type</th>\n",
       "      <th>Is_Fraud</th>\n",
       "    </tr>\n",
       "  </thead>\n",
       "  <tbody>\n",
       "    <tr>\n",
       "      <th>0</th>\n",
       "      <td>1</td>\n",
       "      <td>1.045534</td>\n",
       "      <td>15</td>\n",
       "      <td>127</td>\n",
       "      <td>127</td>\n",
       "      <td>2</td>\n",
       "      <td>22</td>\n",
       "      <td>-0.599702</td>\n",
       "      <td>3</td>\n",
       "      <td>5</td>\n",
       "      <td>0.807290</td>\n",
       "      <td>17</td>\n",
       "      <td>129</td>\n",
       "      <td>3</td>\n",
       "      <td>0</td>\n",
       "    </tr>\n",
       "    <tr>\n",
       "      <th>1</th>\n",
       "      <td>0</td>\n",
       "      <td>0.456865</td>\n",
       "      <td>18</td>\n",
       "      <td>100</td>\n",
       "      <td>100</td>\n",
       "      <td>0</td>\n",
       "      <td>10</td>\n",
       "      <td>-0.207182</td>\n",
       "      <td>0</td>\n",
       "      <td>5</td>\n",
       "      <td>0.809676</td>\n",
       "      <td>9</td>\n",
       "      <td>102</td>\n",
       "      <td>1</td>\n",
       "      <td>0</td>\n",
       "    </tr>\n",
       "    <tr>\n",
       "      <th>2</th>\n",
       "      <td>1</td>\n",
       "      <td>-1.570771</td>\n",
       "      <td>4</td>\n",
       "      <td>13</td>\n",
       "      <td>13</td>\n",
       "      <td>2</td>\n",
       "      <td>24</td>\n",
       "      <td>0.473684</td>\n",
       "      <td>0</td>\n",
       "      <td>3</td>\n",
       "      <td>0.524828</td>\n",
       "      <td>0</td>\n",
       "      <td>13</td>\n",
       "      <td>1</td>\n",
       "      <td>0</td>\n",
       "    </tr>\n",
       "    <tr>\n",
       "      <th>3</th>\n",
       "      <td>0</td>\n",
       "      <td>0.849311</td>\n",
       "      <td>28</td>\n",
       "      <td>22</td>\n",
       "      <td>22</td>\n",
       "      <td>0</td>\n",
       "      <td>18</td>\n",
       "      <td>-1.244660</td>\n",
       "      <td>2</td>\n",
       "      <td>2</td>\n",
       "      <td>0.209460</td>\n",
       "      <td>8</td>\n",
       "      <td>24</td>\n",
       "      <td>2</td>\n",
       "      <td>0</td>\n",
       "    </tr>\n",
       "    <tr>\n",
       "      <th>4</th>\n",
       "      <td>0</td>\n",
       "      <td>-0.066396</td>\n",
       "      <td>25</td>\n",
       "      <td>7</td>\n",
       "      <td>7</td>\n",
       "      <td>2</td>\n",
       "      <td>29</td>\n",
       "      <td>-1.092851</td>\n",
       "      <td>3</td>\n",
       "      <td>2</td>\n",
       "      <td>-1.325919</td>\n",
       "      <td>16</td>\n",
       "      <td>7</td>\n",
       "      <td>2</td>\n",
       "      <td>0</td>\n",
       "    </tr>\n",
       "  </tbody>\n",
       "</table>\n",
       "</div>"
      ],
      "text/plain": [
       "   Gender       Age  State  City  Bank_Branch  Account_Type  Transaction_Date  \\\n",
       "0       1  1.045534     15   127          127             2                22   \n",
       "1       0  0.456865     18   100          100             0                10   \n",
       "2       1 -1.570771      4    13           13             2                24   \n",
       "3       0  0.849311     28    22           22             0                18   \n",
       "4       0 -0.066396     25     7            7             2                29   \n",
       "\n",
       "   Transaction_Amount  Transaction_Type  Merchant_Category  Account_Balance  \\\n",
       "0           -0.599702                 3                  5         0.807290   \n",
       "1           -0.207182                 0                  5         0.809676   \n",
       "2            0.473684                 0                  3         0.524828   \n",
       "3           -1.244660                 2                  2         0.209460   \n",
       "4           -1.092851                 3                  2        -1.325919   \n",
       "\n",
       "   Transaction_Device  Transaction_Location  Device_Type  Is_Fraud  \n",
       "0                  17                   129            3         0  \n",
       "1                   9                   102            1         0  \n",
       "2                   0                    13            1         0  \n",
       "3                   8                    24            2         0  \n",
       "4                  16                     7            2         0  "
      ]
     },
     "execution_count": 20,
     "metadata": {},
     "output_type": "execute_result"
    }
   ],
   "source": [
    "dtf1.head()"
   ]
  },
  {
   "cell_type": "code",
   "execution_count": 21,
   "id": "8bb910ca",
   "metadata": {},
   "outputs": [
    {
     "name": "stdout",
     "output_type": "stream",
     "text": [
      "<class 'pandas.core.frame.DataFrame'>\n",
      "RangeIndex: 200000 entries, 0 to 199999\n",
      "Data columns (total 15 columns):\n",
      " #   Column                Non-Null Count   Dtype  \n",
      "---  ------                --------------   -----  \n",
      " 0   Gender                200000 non-null  int32  \n",
      " 1   Age                   200000 non-null  float64\n",
      " 2   State                 200000 non-null  int32  \n",
      " 3   City                  200000 non-null  int32  \n",
      " 4   Bank_Branch           200000 non-null  int32  \n",
      " 5   Account_Type          200000 non-null  int32  \n",
      " 6   Transaction_Date      200000 non-null  int32  \n",
      " 7   Transaction_Amount    200000 non-null  float64\n",
      " 8   Transaction_Type      200000 non-null  int32  \n",
      " 9   Merchant_Category     200000 non-null  int32  \n",
      " 10  Account_Balance       200000 non-null  float64\n",
      " 11  Transaction_Device    200000 non-null  int32  \n",
      " 12  Transaction_Location  200000 non-null  int32  \n",
      " 13  Device_Type           200000 non-null  int32  \n",
      " 14  Is_Fraud              200000 non-null  int64  \n",
      "dtypes: float64(3), int32(11), int64(1)\n",
      "memory usage: 14.5 MB\n"
     ]
    }
   ],
   "source": [
    "dtf1.info()"
   ]
  },
  {
   "cell_type": "markdown",
   "id": "25ed7e36",
   "metadata": {},
   "source": [
    "Splitting data into training and testing data sets."
   ]
  },
  {
   "cell_type": "code",
   "execution_count": 22,
   "id": "cad1db7e",
   "metadata": {},
   "outputs": [],
   "source": [
    "Xt = dtf1.drop(['Transaction_Date','Is_Fraud'],axis =1)\n",
    "yt= dtf1['Is_Fraud']  "
   ]
  },
  {
   "cell_type": "code",
   "execution_count": 23,
   "id": "0c34eead",
   "metadata": {},
   "outputs": [],
   "source": [
    "Xt_train, Xt_test, yt_train, yt_test = train_test_split(Xt, yt, test_size = 0.2, random_state = 42) #We are assigning 80% of the data for training and 20% for testing; and chosing a default value of 42 for random_state."
   ]
  },
  {
   "cell_type": "markdown",
   "id": "4f918283",
   "metadata": {},
   "source": [
    "### Scaling"
   ]
  },
  {
   "cell_type": "code",
   "execution_count": 24,
   "id": "31ea6da3",
   "metadata": {},
   "outputs": [],
   "source": [
    "sclr = StandardScaler()"
   ]
  },
  {
   "cell_type": "code",
   "execution_count": 25,
   "id": "4f007475",
   "metadata": {},
   "outputs": [],
   "source": [
    "#Scaling the train and test data.\n",
    "Xt_train_scld = sclr.fit_transform(Xt_train)\n",
    "Xt_test_scld = sclr.transform(Xt_test)"
   ]
  },
  {
   "cell_type": "markdown",
   "id": "236763b4",
   "metadata": {},
   "source": [
    "### 9. Model Training"
   ]
  },
  {
   "cell_type": "markdown",
   "id": "8fda5d65",
   "metadata": {},
   "source": [
    "Since we have a target label 'Is_Fraud', we will use the models of Supervised Learning."
   ]
  },
  {
   "cell_type": "code",
   "execution_count": 26,
   "id": "269d4257",
   "metadata": {
    "scrolled": false
   },
   "outputs": [
    {
     "name": "stdout",
     "output_type": "stream",
     "text": [
      "Output of Logistic Regression:\n",
      "              precision    recall  f1-score   support\n",
      "\n",
      "           0       0.95      1.00      0.97     37955\n",
      "           1       0.00      0.00      0.00      2045\n",
      "\n",
      "    accuracy                           0.95     40000\n",
      "   macro avg       0.47      0.50      0.49     40000\n",
      "weighted avg       0.90      0.95      0.92     40000\n",
      "\n",
      "\n",
      "\n",
      "Output of Decision Tree:\n",
      "              precision    recall  f1-score   support\n",
      "\n",
      "           0       0.95      0.93      0.94     37955\n",
      "           1       0.05      0.07      0.06      2045\n",
      "\n",
      "    accuracy                           0.89     40000\n",
      "   macro avg       0.50      0.50      0.50     40000\n",
      "weighted avg       0.90      0.89      0.90     40000\n",
      "\n",
      "\n",
      "\n",
      "Output of Random Forest:\n",
      "              precision    recall  f1-score   support\n",
      "\n",
      "           0       0.95      1.00      0.97     37955\n",
      "           1       0.00      0.00      0.00      2045\n",
      "\n",
      "    accuracy                           0.95     40000\n",
      "   macro avg       0.47      0.50      0.49     40000\n",
      "weighted avg       0.90      0.95      0.92     40000\n",
      "\n",
      "\n",
      "\n",
      "Output of Gradient Boosting:\n",
      "              precision    recall  f1-score   support\n",
      "\n",
      "           0       0.95      1.00      0.97     37955\n",
      "           1       0.25      0.00      0.00      2045\n",
      "\n",
      "    accuracy                           0.95     40000\n",
      "   macro avg       0.60      0.50      0.49     40000\n",
      "weighted avg       0.91      0.95      0.92     40000\n",
      "\n",
      "\n",
      "\n",
      "Output of XGBoost:\n",
      "              precision    recall  f1-score   support\n",
      "\n",
      "           0       0.95      1.00      0.97     37955\n",
      "           1       0.00      0.00      0.00      2045\n",
      "\n",
      "    accuracy                           0.95     40000\n",
      "   macro avg       0.47      0.50      0.49     40000\n",
      "weighted avg       0.90      0.95      0.92     40000\n",
      "\n",
      "\n",
      "\n"
     ]
    }
   ],
   "source": [
    "#Choosing models for training the data\n",
    "mods = {\n",
    "    'Logistic Regression': LogisticRegression(),\n",
    "    'Decision Tree': DecisionTreeClassifier(),\n",
    "    'Random Forest': RandomForestClassifier(),\n",
    "    'Gradient Boosting': GradientBoostingClassifier(),\n",
    "    'XGBoost': xgb.XGBClassifier(),\n",
    "}\n",
    "#Training and evaluating the models.\n",
    "opt = {}\n",
    "for m_name, mod in mods.items():\n",
    "    mod.fit(Xt_train_scld, yt_train)\n",
    "    y_pred = mod.predict(Xt_test_scld) \n",
    "    y_prob = mod.predict_proba(Xt_test_scld)[:, 1]\n",
    "    \n",
    "    print(f'Output of {m_name}:')\n",
    "    print(classification_report(yt_test, y_pred))\n",
    "    print('\\n')"
   ]
  },
  {
   "cell_type": "markdown",
   "id": "43f05801",
   "metadata": {},
   "source": [
    "It seems that most of the transactions were detected as ligit or True Positive neglecting the actual fraud cases. So, to avoid this, we should evaluate the model on the bases of recall values generated by all the models. If we look the recall values(0- ligit, 1- fraud) for every models, all of the models choosen has no significance effect in predicting fraudulent cases. So, we need to re-sample the data and assign some hyperparameters to choose the best model for fraud detection."
   ]
  },
  {
   "cell_type": "markdown",
   "id": "9723201c",
   "metadata": {},
   "source": [
    "#### Sampling and Tuning the hyper-parameters"
   ]
  },
  {
   "cell_type": "code",
   "execution_count": 27,
   "id": "c99682f8",
   "metadata": {},
   "outputs": [],
   "source": [
    "#Re-sampling the train dataset using SMOTE\n",
    "smote = SMOTE(random_state=42)\n",
    "Xt_train_res, yt_train_res = smote.fit_resample(Xt_train, yt_train)\n",
    "\n",
    "#Scaling the train and test data\n",
    "sclr = StandardScaler()\n",
    "Xt_train_scld = sclr.fit_transform(Xt_train_res)\n",
    "Xt_test_scld = sclr.transform(Xt_test)"
   ]
  },
  {
   "cell_type": "markdown",
   "id": "d8bf144e",
   "metadata": {},
   "source": [
    "#### Model Selection"
   ]
  },
  {
   "cell_type": "code",
   "execution_count": 28,
   "id": "4d0fd77e",
   "metadata": {},
   "outputs": [],
   "source": [
    "#Choosing the models\n",
    "mods1 = {\n",
    "    'Logistic Regression': LogisticRegression(class_weight='balanced'),\n",
    "    'Decision Tree': DecisionTreeClassifier(class_weight='balanced'),\n",
    "    'Random Forest': RandomForestClassifier(class_weight='balanced', warm_start=True),\n",
    "    'Gradient Boosting': GradientBoostingClassifier(warm_start=True),\n",
    "    'XGBoost': xgb.XGBClassifier(scale_pos_weight='balanced')\n",
    "}"
   ]
  },
  {
   "cell_type": "markdown",
   "id": "dc3bb6ae",
   "metadata": {},
   "source": [
    "Tuning the parameters"
   ]
  },
  {
   "cell_type": "code",
   "execution_count": 29,
   "id": "1626b09c",
   "metadata": {},
   "outputs": [],
   "source": [
    "#Adding hyperparameters to each model\n",
    "prm_grids = {\n",
    "    'Logistic Regression': {\n",
    "        'model__C': [0.1, 1, 10, 100],\n",
    "        'model__penalty': ['l2'],\n",
    "        'model__solver': ['liblinear']\n",
    "    },\n",
    "    'Decision Tree': {\n",
    "        'model__max_depth': [10, 20],\n",
    "        'model__min_samples_split': [2],\n",
    "        'model__class_weight': ['balanced', None]\n",
    "    },\n",
    "    'Random Forest': {\n",
    "        'model__n_estimators': [50, 100],\n",
    "        'model__max_depth': [10, 20],\n",
    "        'model__min_samples_split': [2],\n",
    "        'model__class_weight': ['balanced', None]\n",
    "    },\n",
    "    'Gradient Boosting': {\n",
    "        'model__n_estimators': [50, 100],\n",
    "        'model__learning_rate': [0.01, 0.1],\n",
    "        'model__max_depth': [3, 5]\n",
    "    },\n",
    "    'XGBoost': {\n",
    "        'model__n_estimators': [50, 100],\n",
    "        'model__learning_rate': [0.01, 0.1],\n",
    "        'model__max_depth': [3, 5],\n",
    "        'model__scale_pos_weight': [1, 2, 3]\n",
    "    }\n",
    "}"
   ]
  },
  {
   "cell_type": "markdown",
   "id": "5ae7a0bf",
   "metadata": {},
   "source": [
    "### 10. Model Deployment"
   ]
  },
  {
   "cell_type": "code",
   "execution_count": 30,
   "id": "4b857b85",
   "metadata": {},
   "outputs": [
    {
     "name": "stdout",
     "output_type": "stream",
     "text": [
      "\n",
      "Training and evaluating Logistic Regression\n",
      "Fitting 3 folds for each of 4 candidates, totalling 12 fits\n",
      "The most significant parameters for Logistic Regression: {'model__C': 0.1, 'model__penalty': 'l2', 'model__solver': 'liblinear'}\n",
      "ROC AUC for Logistic Regression: 0.49703166051420433\n",
      "\n",
      "Classification Report for Logistic Regression at threshold 0.3:\n",
      "              precision    recall  f1-score   support\n",
      "\n",
      "           0       0.95      0.23      0.37     37955\n",
      "           1       0.05      0.77      0.10      2045\n",
      "\n",
      "    accuracy                           0.26     40000\n",
      "   macro avg       0.50      0.50      0.23     40000\n",
      "weighted avg       0.90      0.26      0.36     40000\n",
      "\n",
      "\n",
      "Classification Report for Logistic Regression at threshold 0.5:\n",
      "              precision    recall  f1-score   support\n",
      "\n",
      "           0       0.95      0.63      0.76     37955\n",
      "           1       0.05      0.36      0.09      2045\n",
      "\n",
      "    accuracy                           0.62     40000\n",
      "   macro avg       0.50      0.50      0.42     40000\n",
      "weighted avg       0.90      0.62      0.72     40000\n",
      "\n",
      "\n",
      "Classification Report for Logistic Regression at threshold 0.7:\n",
      "              precision    recall  f1-score   support\n",
      "\n",
      "           0       0.95      0.93      0.94     37955\n",
      "           1       0.05      0.07      0.06      2045\n",
      "\n",
      "    accuracy                           0.88     40000\n",
      "   macro avg       0.50      0.50      0.50     40000\n",
      "weighted avg       0.90      0.88      0.89     40000\n",
      "\n",
      "\n",
      "Training and evaluating Decision Tree\n",
      "Fitting 3 folds for each of 4 candidates, totalling 12 fits\n",
      "The most significant parameters for Decision Tree: {'model__class_weight': 'balanced', 'model__max_depth': 20, 'model__min_samples_split': 2}\n",
      "ROC AUC for Decision Tree: 0.5046852033952187\n",
      "\n",
      "Classification Report for Decision Tree at threshold 0.3:\n",
      "              precision    recall  f1-score   support\n",
      "\n",
      "           0       0.95      0.59      0.73     37955\n",
      "           1       0.05      0.42      0.09      2045\n",
      "\n",
      "    accuracy                           0.58     40000\n",
      "   macro avg       0.50      0.50      0.41     40000\n",
      "weighted avg       0.90      0.58      0.70     40000\n",
      "\n",
      "\n",
      "Classification Report for Decision Tree at threshold 0.5:\n",
      "              precision    recall  f1-score   support\n",
      "\n",
      "           0       0.95      0.68      0.79     37955\n",
      "           1       0.05      0.33      0.09      2045\n",
      "\n",
      "    accuracy                           0.66     40000\n",
      "   macro avg       0.50      0.51      0.44     40000\n",
      "weighted avg       0.90      0.66      0.75     40000\n",
      "\n",
      "\n",
      "Classification Report for Decision Tree at threshold 0.7:\n",
      "              precision    recall  f1-score   support\n",
      "\n",
      "           0       0.95      0.85      0.89     37955\n",
      "           1       0.05      0.16      0.08      2045\n",
      "\n",
      "    accuracy                           0.81     40000\n",
      "   macro avg       0.50      0.50      0.49     40000\n",
      "weighted avg       0.90      0.81      0.85     40000\n",
      "\n",
      "\n",
      "Training and evaluating Random Forest\n",
      "Fitting 3 folds for each of 8 candidates, totalling 24 fits\n",
      "The most significant parameters for Random Forest: {'model__class_weight': None, 'model__max_depth': 20, 'model__min_samples_split': 2, 'model__n_estimators': 100}\n",
      "ROC AUC for Random Forest: 0.492940179127322\n",
      "\n",
      "Classification Report for Random Forest at threshold 0.3:\n",
      "              precision    recall  f1-score   support\n",
      "\n",
      "           0       0.95      0.57      0.71     37955\n",
      "           1       0.05      0.41      0.09      2045\n",
      "\n",
      "    accuracy                           0.57     40000\n",
      "   macro avg       0.50      0.49      0.40     40000\n",
      "weighted avg       0.90      0.57      0.68     40000\n",
      "\n",
      "\n",
      "Classification Report for Random Forest at threshold 0.5:\n",
      "              precision    recall  f1-score   support\n",
      "\n",
      "           0       0.95      0.77      0.85     37955\n",
      "           1       0.05      0.23      0.08      2045\n",
      "\n",
      "    accuracy                           0.74     40000\n",
      "   macro avg       0.50      0.50      0.47     40000\n",
      "weighted avg       0.90      0.74      0.81     40000\n",
      "\n",
      "\n",
      "Classification Report for Random Forest at threshold 0.7:\n",
      "              precision    recall  f1-score   support\n",
      "\n",
      "           0       0.95      0.93      0.94     37955\n",
      "           1       0.05      0.07      0.06      2045\n",
      "\n",
      "    accuracy                           0.88     40000\n",
      "   macro avg       0.50      0.50      0.50     40000\n",
      "weighted avg       0.90      0.88      0.89     40000\n",
      "\n",
      "\n",
      "Training and evaluating Gradient Boosting\n",
      "Fitting 3 folds for each of 8 candidates, totalling 24 fits\n",
      "The most significant parameters for Gradient Boosting: {'model__learning_rate': 0.1, 'model__max_depth': 5, 'model__n_estimators': 100}\n",
      "ROC AUC for Gradient Boosting: 0.4947008924157066\n",
      "\n",
      "Classification Report for Gradient Boosting at threshold 0.3:\n",
      "              precision    recall  f1-score   support\n",
      "\n",
      "           0       0.95      0.54      0.69     37955\n",
      "           1       0.05      0.46      0.09      2045\n",
      "\n",
      "    accuracy                           0.53     40000\n",
      "   macro avg       0.50      0.50      0.39     40000\n",
      "weighted avg       0.90      0.53      0.66     40000\n",
      "\n",
      "\n",
      "Classification Report for Gradient Boosting at threshold 0.5:\n",
      "              precision    recall  f1-score   support\n",
      "\n",
      "           0       0.95      0.82      0.88     37955\n",
      "           1       0.05      0.17      0.08      2045\n",
      "\n",
      "    accuracy                           0.79     40000\n",
      "   macro avg       0.50      0.50      0.48     40000\n",
      "weighted avg       0.90      0.79      0.84     40000\n",
      "\n",
      "\n",
      "Classification Report for Gradient Boosting at threshold 0.7:\n",
      "              precision    recall  f1-score   support\n",
      "\n",
      "           0       0.95      0.97      0.96     37955\n",
      "           1       0.05      0.03      0.04      2045\n",
      "\n",
      "    accuracy                           0.92     40000\n",
      "   macro avg       0.50      0.50      0.50     40000\n",
      "weighted avg       0.90      0.92      0.91     40000\n",
      "\n",
      "\n",
      "Training and evaluating XGBoost\n",
      "Fitting 3 folds for each of 24 candidates, totalling 72 fits\n",
      "The most significant parameters for XGBoost: {'model__learning_rate': 0.01, 'model__max_depth': 3, 'model__n_estimators': 50, 'model__scale_pos_weight': 3}\n",
      "ROC AUC for XGBoost: 0.4914027388630018\n",
      "\n",
      "Classification Report for XGBoost at threshold 0.3:\n",
      "              precision    recall  f1-score   support\n",
      "\n",
      "           0       0.00      0.00      0.00     37955\n",
      "           1       0.05      1.00      0.10      2045\n",
      "\n",
      "    accuracy                           0.05     40000\n",
      "   macro avg       0.03      0.50      0.05     40000\n",
      "weighted avg       0.00      0.05      0.00     40000\n",
      "\n",
      "\n",
      "Classification Report for XGBoost at threshold 0.5:\n",
      "              precision    recall  f1-score   support\n",
      "\n",
      "           0       0.00      0.00      0.00     37955\n",
      "           1       0.05      1.00      0.10      2045\n",
      "\n",
      "    accuracy                           0.05     40000\n",
      "   macro avg       0.03      0.50      0.05     40000\n",
      "weighted avg       0.00      0.05      0.00     40000\n",
      "\n",
      "\n",
      "Classification Report for XGBoost at threshold 0.7:\n",
      "              precision    recall  f1-score   support\n",
      "\n",
      "           0       0.95      0.37      0.53     37955\n",
      "           1       0.05      0.62      0.09      2045\n",
      "\n",
      "    accuracy                           0.38     40000\n",
      "   macro avg       0.50      0.49      0.31     40000\n",
      "weighted avg       0.90      0.38      0.51     40000\n",
      "\n"
     ]
    }
   ],
   "source": [
    "#Assigning a variable to store the recall values for each threshold of the model which will be later used for comparision.\n",
    "recall_vals = {model_name: [] for model_name in mods1.keys()}\n",
    "\n",
    "#Defining a function to apply threshold\n",
    "def app_threshold(y_prob, threshold):\n",
    "    return (y_prob >= threshold).astype(int)\n",
    "\n",
    "#Assining threshold values\n",
    "tsholds = [0.3, 0.5, 0.7]\n",
    "\n",
    "#Fitting the model with thresholds\n",
    "for md_name, mod in mods1.items():\n",
    "    print(f\"\\nTraining and evaluating {md_name}\")\n",
    "    \n",
    "    #Assigning a pipeline for every model with scaling\n",
    "    ppl = Pipeline([('scaler', StandardScaler()), ('model', mod)])\n",
    "    \n",
    "    #Since we will evaluate the models on the basis of 'recall' values, we assign recall to scoring.\n",
    "    gd_search = GridSearchCV(estimator=ppl, param_grid=prm_grids[md_name], cv=StratifiedKFold(n_splits=3), scoring='recall', n_jobs=-1, verbose=1)\n",
    "    \n",
    "    #Using GridSearchCV to train the model as it performs intense search for all the possible combination without missing combinations.\n",
    "    gd_search.fit(Xt_train_scld, yt_train_res)\n",
    "    \n",
    "    #Finding and printing the most significant hyperparameters.\n",
    "    sgt_pms = gd_search.best_params_\n",
    "    print(f\"The most significant parameters for {md_name}: {sgt_pms}\")\n",
    "    \n",
    "    #Predicting and printing metrics.\n",
    "    y_prob = gd_search.predict_proba(Xt_test_scld)[:, 1]  # Probabilities for the positive class\n",
    "    aucc_score = roc_auc_score(yt_test, y_prob)\n",
    "    print(f\"ROC AUC for {md_name}: {aucc_score}\")\n",
    "    \n",
    "    #Computing recall for different thresholds for every models.\n",
    "    rcl_thresholds = [] #Stores recall values for different thresholds in a list.\n",
    "    for trshd in tsholds:\n",
    "        y_pd_threshold = app_threshold(y_prob, trshd)\n",
    "        recall_at_trshd = recall_score(yt_test, y_pd_threshold)\n",
    "        rcl_thresholds.append(recall_at_trshd)\n",
    "        print(f\"\\nClassification Report for {md_name} at threshold {trshd}:\")\n",
    "        print(classification_report(yt_test, y_pd_threshold))\n",
    "    \n",
    "    #Storing recall values of the models.\n",
    "    recall_vals[md_name] = rcl_thresholds"
   ]
  },
  {
   "cell_type": "markdown",
   "id": "8d9e20ae",
   "metadata": {},
   "source": [
    "### 11. Model Evaluation"
   ]
  },
  {
   "cell_type": "markdown",
   "id": "5359cf9d",
   "metadata": {},
   "source": [
    "All of the models performed well after tuning the hyperparameters given that they have higher recall values now compared to earlier outputs before hypertuning. The models could perform even better if we train models with optimum parameters on devices with robust computational capabilities."
   ]
  },
  {
   "cell_type": "code",
   "execution_count": 32,
   "id": "81c963c8",
   "metadata": {},
   "outputs": [
    {
     "data": {
      "image/png": "[encoded data removed]",
      "text/plain": [
       "<Figure size 1200x800 with 1 Axes>"
      ]
     },
     "metadata": {},
     "output_type": "display_data"
    }
   ],
   "source": [
    "#Plotting Recall Vs Thresholds for all models at different thresholds.\n",
    "pyp.figure(figsize=(12, 8))\n",
    "\n",
    "for mod_name, rcl_thresholds in recall_vals.items():\n",
    "    pyp.plot(tsholds, rcl_thresholds, label=mod_name, marker='o')\n",
    "\n",
    "#Naming the features for the plot.\n",
    "pyp.title('Recall vs Threshold for Different Models')\n",
    "pyp.xlabel('Threshold')\n",
    "pyp.ylabel('Recall')\n",
    "pyp.legend(loc='upper left', bbox_to_anchor=(1, 1))\n",
    "pyp.grid(True)\n",
    "pyp.show()\n"
   ]
  },
  {
   "cell_type": "markdown",
   "id": "7060c35b",
   "metadata": {},
   "source": [
    "From the line plot above, we can see that the recall values for 'Is_Fraud' is high at lower thresholds and keeps on decreasing as we increase the thresholds. From the plot, it is clear that if tuned properly,  XGBoost is the best model amongs all models to detect frauds from an imbalance dataset."
   ]
  },
  {
   "cell_type": "markdown",
   "id": "43fdbac7",
   "metadata": {},
   "source": [
    "### 12. Conclusion"
   ]
  },
  {
   "cell_type": "markdown",
   "id": "d595d8fa",
   "metadata": {},
   "source": [
    "It is seen that all of our models without scaling and hypertuning performed well in terms of detecting non-fraudulent transactions with precision value of 0.95 for all models. However, there is no significance in the recall values for fraudulent transactions. It is obvious that they assumed some fraud cases to be ligit. To avaoid our models assuming frauds as ligit, we re-scaled the training data set and added some hyperparameters to every models with thresholds. After training the models once again with these features, our models performed better for the given dataset which can be clearly seen in the line plot above.\n",
    "During the training of the models with hyperparameters, we experienced that if we keep assigning hyperparameters, the model training lags and require more computational power. Also, if we keep adding thresholds, we will get the best recall value for each model thus detecting frauds and keeping the precision high for ligit transactions. We must be aware during assigning thresholds and hyper tuning because assigning too much thresholds and over-hyper tuning could lead all our ligit transactions to be assumed fraud. Lastly, for the imbalance dataset we have, XGBoost model stood best. The same model could not fit well for other dataset as the evaluation is based on recall values which are dependent on thresholds, scaling and hyper-parameters."
   ]
  }
 ],
 "metadata": {
  "kernelspec": {
   "display_name": "Python 3 (ipykernel)",
   "language": "python",
   "name": "python3"
  },
  "language_info": {
   "codemirror_mode": {
    "name": "ipython",
    "version": 3
   },
   "file_extension": ".py",
   "mimetype": "text/x-python",
   "name": "python",
   "nbconvert_exporter": "python",
   "pygments_lexer": "ipython3",
   "version": "3.11.7"
  }
 },
 "nbformat": 4,
 "nbformat_minor": 5
}
