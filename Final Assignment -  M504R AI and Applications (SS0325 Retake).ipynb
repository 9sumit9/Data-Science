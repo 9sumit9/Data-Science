{
 "cells": [
  {
   "cell_type": "markdown",
   "id": "d3d671c3-8b70-477f-89e9-e249e8b0ad4b",
   "metadata": {},
   "source": [
    "## Social Media Usage and Addiction"
   ]
  },
  {
   "cell_type": "markdown",
   "id": "198272b0-34dd-4085-8c20-3d32d197f532",
   "metadata": {},
   "source": [
    "Name: Sumit Kumar Sangroula, Student ID: GH1040901"
   ]
  },
  {
   "cell_type": "markdown",
   "id": "3f7aba07-8661-4392-abce-3cf5293da772",
   "metadata": {},
   "source": [
    "### Context"
   ]
  },
  {
   "cell_type": "markdown",
   "id": "6390568c-df06-401a-9cb2-72b412ea40d3",
   "metadata": {},
   "source": [
    "With the invention of technology, most of our day to day chores have been simplified to a certain extent. And it is obvious that we go with the flow regardless of the outcomes. We are now shifting more on digital screen rather than spending time to witness real-time events. We are slowly falling prey to the digital world which we have no control of. The development of different tools and apps across different platforms although with the intention of providing services to the people, the excessive use of these platforms have severe effects on the users.\n",
    "\n",
    "The dataset used in this project will allow us to dissect the usage of social media platforms by students around the world and the effects it invoke on the sudents. The dataset used in this project gives an insight of how the usage of social media platforms affects the mental and academic performance of the students. The dataset contains features such as daily usage hours, addiction level, social media conflicts, relationship status, age, academic performance and more. We will analyze the academic growth of the students based on these features and draw out conclusions based on the output."
   ]
  },
  {
   "cell_type": "markdown",
   "id": "4c6f1789-d393-490f-b78d-f62fcd4defc7",
   "metadata": {},
   "source": [
    "### Objective\n",
    "\n",
    "1. Identify vulnerable gender and age groups.\n",
    "2. Assess the social and academic behaviour of students.\n",
    "3. Awareness of the negative impacts and proper guidance to mitigate the problems."
   ]
  },
  {
   "cell_type": "markdown",
   "id": "fdeda3f8-a4a1-4f61-88e8-7e6c90ed884f",
   "metadata": {},
   "source": [
    "### Data Source \n",
    "The data is collected from https://www.kaggle.com/datasets/adilshamim8/social-media-addiction-vs-relationships/data?select=Students+Social+Media+Addiction.csv\n",
    "Also, I have uploaded the dataset on my github account. https://github.com/9sumit9/dataset/blob/main/Students%20Social%20Media%20Addiction.csv\n",
    "\n",
    "* Dataset Name : Students' Social Media Addiction\n",
    "* Format : CSV\n",
    "* No. of Columns : 13\n",
    "* No. of Records : 705\n"
   ]
  },
  {
   "cell_type": "markdown",
   "id": "87863458-e189-4760-9950-b5691c2ae4c0",
   "metadata": {},
   "source": [
    "### Importing necessary libraries"
   ]
  },
  {
   "cell_type": "code",
   "execution_count": 1,
   "id": "14377f3b-f7cd-479a-b952-40f2d7f6b108",
   "metadata": {},
   "outputs": [],
   "source": [
    "import pandas as pa #data analysis library\n",
    "import matplotlib.pyplot as pt #for visualization\n",
    "import seaborn as sbn #for visualization\n",
    "from sklearn.ensemble import RandomForestClassifier #supervised learning model\n",
    "from sklearn.preprocessing import LabelEncoder #to convert categorical data into numerical\n",
    "from sklearn.model_selection import train_test_split #to train, test and split the data\n",
    "from sklearn.metrics import classification_report, confusion_matrix, accuracy_score #evaluation metrics\n",
    "import warnings #to ignore the future warnings while running the code.\n",
    "warnings.filterwarnings(\"ignore\", category=FutureWarning)\n"
   ]
  },
  {
   "cell_type": "markdown",
   "id": "13f72c93-721b-4ac3-9c64-cc2250104961",
   "metadata": {},
   "source": [
    "##### Importing the dataset from my github account."
   ]
  },
  {
   "cell_type": "code",
   "execution_count": 2,
   "id": "0a794761-4816-4210-902a-d991f8226c0d",
   "metadata": {},
   "outputs": [],
   "source": [
    "#Loading the dataset from github\n",
    "dataf = pa.read_csv('https://raw.githubusercontent.com/9sumit9/dataset/refs/heads/main/Students%20Social%20Media%20Addiction.csv')"
   ]
  },
  {
   "cell_type": "markdown",
   "id": "9d0dd41e-9cc5-4b76-a455-7460110c7619",
   "metadata": {},
   "source": [
    "### Data Exploration"
   ]
  },
  {
   "cell_type": "code",
   "execution_count": 3,
   "id": "94294687-26f3-40b3-a81f-beefaabed7d4",
   "metadata": {},
   "outputs": [
    {
     "data": {
      "text/html": [
       "<div>\n",
       "<style scoped>\n",
       "    .dataframe tbody tr th:only-of-type {\n",
       "        vertical-align: middle;\n",
       "    }\n",
       "\n",
       "    .dataframe tbody tr th {\n",
       "        vertical-align: top;\n",
       "    }\n",
       "\n",
       "    .dataframe thead th {\n",
       "        text-align: right;\n",
       "    }\n",
       "</style>\n",
       "<table border=\"1\" class=\"dataframe\">\n",
       "  <thead>\n",
       "    <tr style=\"text-align: right;\">\n",
       "      <th></th>\n",
       "      <th>Student_ID</th>\n",
       "      <th>Age</th>\n",
       "      <th>Gender</th>\n",
       "      <th>Academic_Level</th>\n",
       "      <th>Country</th>\n",
       "      <th>Avg_Daily_Usage_Hours</th>\n",
       "      <th>Most_Used_Platform</th>\n",
       "      <th>Affects_Academic_Performance</th>\n",
       "      <th>Sleep_Hours_Per_Night</th>\n",
       "      <th>Mental_Health_Score</th>\n",
       "      <th>Relationship_Status</th>\n",
       "      <th>Conflicts_Over_Social_Media</th>\n",
       "      <th>Addicted_Score</th>\n",
       "    </tr>\n",
       "  </thead>\n",
       "  <tbody>\n",
       "    <tr>\n",
       "      <th>0</th>\n",
       "      <td>1</td>\n",
       "      <td>19</td>\n",
       "      <td>Female</td>\n",
       "      <td>Undergraduate</td>\n",
       "      <td>Bangladesh</td>\n",
       "      <td>5.2</td>\n",
       "      <td>Instagram</td>\n",
       "      <td>Yes</td>\n",
       "      <td>6.5</td>\n",
       "      <td>6</td>\n",
       "      <td>In Relationship</td>\n",
       "      <td>3</td>\n",
       "      <td>8</td>\n",
       "    </tr>\n",
       "    <tr>\n",
       "      <th>1</th>\n",
       "      <td>2</td>\n",
       "      <td>22</td>\n",
       "      <td>Male</td>\n",
       "      <td>Graduate</td>\n",
       "      <td>India</td>\n",
       "      <td>2.1</td>\n",
       "      <td>Twitter</td>\n",
       "      <td>No</td>\n",
       "      <td>7.5</td>\n",
       "      <td>8</td>\n",
       "      <td>Single</td>\n",
       "      <td>0</td>\n",
       "      <td>3</td>\n",
       "    </tr>\n",
       "    <tr>\n",
       "      <th>2</th>\n",
       "      <td>3</td>\n",
       "      <td>20</td>\n",
       "      <td>Female</td>\n",
       "      <td>Undergraduate</td>\n",
       "      <td>USA</td>\n",
       "      <td>6.0</td>\n",
       "      <td>TikTok</td>\n",
       "      <td>Yes</td>\n",
       "      <td>5.0</td>\n",
       "      <td>5</td>\n",
       "      <td>Complicated</td>\n",
       "      <td>4</td>\n",
       "      <td>9</td>\n",
       "    </tr>\n",
       "    <tr>\n",
       "      <th>3</th>\n",
       "      <td>4</td>\n",
       "      <td>18</td>\n",
       "      <td>Male</td>\n",
       "      <td>High School</td>\n",
       "      <td>UK</td>\n",
       "      <td>3.0</td>\n",
       "      <td>YouTube</td>\n",
       "      <td>No</td>\n",
       "      <td>7.0</td>\n",
       "      <td>7</td>\n",
       "      <td>Single</td>\n",
       "      <td>1</td>\n",
       "      <td>4</td>\n",
       "    </tr>\n",
       "    <tr>\n",
       "      <th>4</th>\n",
       "      <td>5</td>\n",
       "      <td>21</td>\n",
       "      <td>Male</td>\n",
       "      <td>Graduate</td>\n",
       "      <td>Canada</td>\n",
       "      <td>4.5</td>\n",
       "      <td>Facebook</td>\n",
       "      <td>Yes</td>\n",
       "      <td>6.0</td>\n",
       "      <td>6</td>\n",
       "      <td>In Relationship</td>\n",
       "      <td>2</td>\n",
       "      <td>7</td>\n",
       "    </tr>\n",
       "  </tbody>\n",
       "</table>\n",
       "</div>"
      ],
      "text/plain": [
       "   Student_ID  Age  Gender Academic_Level     Country  Avg_Daily_Usage_Hours  \\\n",
       "0           1   19  Female  Undergraduate  Bangladesh                    5.2   \n",
       "1           2   22    Male       Graduate       India                    2.1   \n",
       "2           3   20  Female  Undergraduate         USA                    6.0   \n",
       "3           4   18    Male    High School          UK                    3.0   \n",
       "4           5   21    Male       Graduate      Canada                    4.5   \n",
       "\n",
       "  Most_Used_Platform Affects_Academic_Performance  Sleep_Hours_Per_Night  \\\n",
       "0          Instagram                          Yes                    6.5   \n",
       "1            Twitter                           No                    7.5   \n",
       "2             TikTok                          Yes                    5.0   \n",
       "3            YouTube                           No                    7.0   \n",
       "4           Facebook                          Yes                    6.0   \n",
       "\n",
       "   Mental_Health_Score Relationship_Status  Conflicts_Over_Social_Media  \\\n",
       "0                    6     In Relationship                            3   \n",
       "1                    8              Single                            0   \n",
       "2                    5         Complicated                            4   \n",
       "3                    7              Single                            1   \n",
       "4                    6     In Relationship                            2   \n",
       "\n",
       "   Addicted_Score  \n",
       "0               8  \n",
       "1               3  \n",
       "2               9  \n",
       "3               4  \n",
       "4               7  "
      ]
     },
     "execution_count": 3,
     "metadata": {},
     "output_type": "execute_result"
    }
   ],
   "source": [
    "dataf.head() #displays the data of the first five rows"
   ]
  },
  {
   "cell_type": "code",
   "execution_count": 4,
   "id": "beaa58e3-7adb-4d19-b065-9597d70be6c3",
   "metadata": {},
   "outputs": [
    {
     "name": "stdout",
     "output_type": "stream",
     "text": [
      "<class 'pandas.core.frame.DataFrame'>\n",
      "RangeIndex: 705 entries, 0 to 704\n",
      "Data columns (total 13 columns):\n",
      " #   Column                        Non-Null Count  Dtype  \n",
      "---  ------                        --------------  -----  \n",
      " 0   Student_ID                    705 non-null    int64  \n",
      " 1   Age                           705 non-null    int64  \n",
      " 2   Gender                        705 non-null    object \n",
      " 3   Academic_Level                705 non-null    object \n",
      " 4   Country                       705 non-null    object \n",
      " 5   Avg_Daily_Usage_Hours         705 non-null    float64\n",
      " 6   Most_Used_Platform            705 non-null    object \n",
      " 7   Affects_Academic_Performance  705 non-null    object \n",
      " 8   Sleep_Hours_Per_Night         705 non-null    float64\n",
      " 9   Mental_Health_Score           705 non-null    int64  \n",
      " 10  Relationship_Status           705 non-null    object \n",
      " 11  Conflicts_Over_Social_Media   705 non-null    int64  \n",
      " 12  Addicted_Score                705 non-null    int64  \n",
      "dtypes: float64(2), int64(5), object(6)\n",
      "memory usage: 71.7+ KB\n"
     ]
    }
   ],
   "source": [
    "dataf.info() #Provides a brief discription of the dataset."
   ]
  },
  {
   "cell_type": "markdown",
   "id": "b4e66b2c-813a-42b7-bc95-074b5b52e79b",
   "metadata": {},
   "source": [
    "##### Checking for Null values"
   ]
  },
  {
   "cell_type": "code",
   "execution_count": 5,
   "id": "03cc09c7-cb16-48c3-a906-7866a0982af4",
   "metadata": {},
   "outputs": [
    {
     "data": {
      "text/plain": [
       "Student_ID                      0\n",
       "Age                             0\n",
       "Gender                          0\n",
       "Academic_Level                  0\n",
       "Country                         0\n",
       "Avg_Daily_Usage_Hours           0\n",
       "Most_Used_Platform              0\n",
       "Affects_Academic_Performance    0\n",
       "Sleep_Hours_Per_Night           0\n",
       "Mental_Health_Score             0\n",
       "Relationship_Status             0\n",
       "Conflicts_Over_Social_Media     0\n",
       "Addicted_Score                  0\n",
       "dtype: int64"
      ]
     },
     "execution_count": 5,
     "metadata": {},
     "output_type": "execute_result"
    }
   ],
   "source": [
    "dataf.isnull().sum() #Checking for null values and summing up the total no. of null values"
   ]
  },
  {
   "cell_type": "markdown",
   "id": "730794c5-c0f1-449f-bb36-5c5e40cbb90e",
   "metadata": {},
   "source": [
    "The labels in our dataset doesn't contain any null values."
   ]
  },
  {
   "cell_type": "markdown",
   "id": "0b187fbc-72eb-45f8-8d8a-729815fd07ea",
   "metadata": {},
   "source": [
    "##### Checking for Duplicated values"
   ]
  },
  {
   "cell_type": "code",
   "execution_count": 6,
   "id": "bed1e98d-d824-403a-92fe-ad007e5c8c68",
   "metadata": {},
   "outputs": [
    {
     "data": {
      "text/plain": [
       "np.int64(0)"
      ]
     },
     "execution_count": 6,
     "metadata": {},
     "output_type": "execute_result"
    }
   ],
   "source": [
    "dataf.duplicated().sum() #Checking for duplicated values."
   ]
  },
  {
   "cell_type": "markdown",
   "id": "b1e3878e-2e2a-4b8c-9c24-dea11446bc28",
   "metadata": {},
   "source": [
    "##### Checking for NaN values"
   ]
  },
  {
   "cell_type": "code",
   "execution_count": 7,
   "id": "44c25fdb-98fa-4f61-9b28-fefbc55b2c77",
   "metadata": {},
   "outputs": [
    {
     "data": {
      "text/plain": [
       "Student_ID                      0\n",
       "Age                             0\n",
       "Gender                          0\n",
       "Academic_Level                  0\n",
       "Country                         0\n",
       "Avg_Daily_Usage_Hours           0\n",
       "Most_Used_Platform              0\n",
       "Affects_Academic_Performance    0\n",
       "Sleep_Hours_Per_Night           0\n",
       "Mental_Health_Score             0\n",
       "Relationship_Status             0\n",
       "Conflicts_Over_Social_Media     0\n",
       "Addicted_Score                  0\n",
       "dtype: int64"
      ]
     },
     "execution_count": 7,
     "metadata": {},
     "output_type": "execute_result"
    }
   ],
   "source": [
    "dataf.isna().sum() #The isna() functions checks for the NaN values and the sum() function sumps up the total NaNs."
   ]
  },
  {
   "cell_type": "markdown",
   "id": "5c824139-fbe8-458e-9d94-9b4e6724a1f9",
   "metadata": {},
   "source": [
    "All the labels in the dataset are free from NaNs."
   ]
  },
  {
   "cell_type": "markdown",
   "id": "9c1159e0-f410-4d0e-9e3d-19dc9cc44f1d",
   "metadata": {},
   "source": [
    "### Explanatory Data Exploration"
   ]
  },
  {
   "cell_type": "markdown",
   "id": "72183be0-bd15-4a19-8a48-201a4316019b",
   "metadata": {},
   "source": [
    "Since, the Student_ID column in the dataset doesn't have major role in the analysis, we will drop the Student_ID column."
   ]
  },
  {
   "cell_type": "code",
   "execution_count": 8,
   "id": "f1b51c95-db3e-4eea-ae3e-6214eeb1350e",
   "metadata": {},
   "outputs": [
    {
     "data": {
      "text/html": [
       "<div>\n",
       "<style scoped>\n",
       "    .dataframe tbody tr th:only-of-type {\n",
       "        vertical-align: middle;\n",
       "    }\n",
       "\n",
       "    .dataframe tbody tr th {\n",
       "        vertical-align: top;\n",
       "    }\n",
       "\n",
       "    .dataframe thead th {\n",
       "        text-align: right;\n",
       "    }\n",
       "</style>\n",
       "<table border=\"1\" class=\"dataframe\">\n",
       "  <thead>\n",
       "    <tr style=\"text-align: right;\">\n",
       "      <th></th>\n",
       "      <th>Age</th>\n",
       "      <th>Gender</th>\n",
       "      <th>Academic_Level</th>\n",
       "      <th>Country</th>\n",
       "      <th>Avg_Daily_Usage_Hours</th>\n",
       "      <th>Most_Used_Platform</th>\n",
       "      <th>Affects_Academic_Performance</th>\n",
       "      <th>Sleep_Hours_Per_Night</th>\n",
       "      <th>Mental_Health_Score</th>\n",
       "      <th>Relationship_Status</th>\n",
       "      <th>Conflicts_Over_Social_Media</th>\n",
       "      <th>Addicted_Score</th>\n",
       "    </tr>\n",
       "  </thead>\n",
       "  <tbody>\n",
       "    <tr>\n",
       "      <th>0</th>\n",
       "      <td>19</td>\n",
       "      <td>Female</td>\n",
       "      <td>Undergraduate</td>\n",
       "      <td>Bangladesh</td>\n",
       "      <td>5.2</td>\n",
       "      <td>Instagram</td>\n",
       "      <td>Yes</td>\n",
       "      <td>6.5</td>\n",
       "      <td>6</td>\n",
       "      <td>In Relationship</td>\n",
       "      <td>3</td>\n",
       "      <td>8</td>\n",
       "    </tr>\n",
       "    <tr>\n",
       "      <th>1</th>\n",
       "      <td>22</td>\n",
       "      <td>Male</td>\n",
       "      <td>Graduate</td>\n",
       "      <td>India</td>\n",
       "      <td>2.1</td>\n",
       "      <td>Twitter</td>\n",
       "      <td>No</td>\n",
       "      <td>7.5</td>\n",
       "      <td>8</td>\n",
       "      <td>Single</td>\n",
       "      <td>0</td>\n",
       "      <td>3</td>\n",
       "    </tr>\n",
       "    <tr>\n",
       "      <th>2</th>\n",
       "      <td>20</td>\n",
       "      <td>Female</td>\n",
       "      <td>Undergraduate</td>\n",
       "      <td>USA</td>\n",
       "      <td>6.0</td>\n",
       "      <td>TikTok</td>\n",
       "      <td>Yes</td>\n",
       "      <td>5.0</td>\n",
       "      <td>5</td>\n",
       "      <td>Complicated</td>\n",
       "      <td>4</td>\n",
       "      <td>9</td>\n",
       "    </tr>\n",
       "    <tr>\n",
       "      <th>3</th>\n",
       "      <td>18</td>\n",
       "      <td>Male</td>\n",
       "      <td>High School</td>\n",
       "      <td>UK</td>\n",
       "      <td>3.0</td>\n",
       "      <td>YouTube</td>\n",
       "      <td>No</td>\n",
       "      <td>7.0</td>\n",
       "      <td>7</td>\n",
       "      <td>Single</td>\n",
       "      <td>1</td>\n",
       "      <td>4</td>\n",
       "    </tr>\n",
       "    <tr>\n",
       "      <th>4</th>\n",
       "      <td>21</td>\n",
       "      <td>Male</td>\n",
       "      <td>Graduate</td>\n",
       "      <td>Canada</td>\n",
       "      <td>4.5</td>\n",
       "      <td>Facebook</td>\n",
       "      <td>Yes</td>\n",
       "      <td>6.0</td>\n",
       "      <td>6</td>\n",
       "      <td>In Relationship</td>\n",
       "      <td>2</td>\n",
       "      <td>7</td>\n",
       "    </tr>\n",
       "  </tbody>\n",
       "</table>\n",
       "</div>"
      ],
      "text/plain": [
       "   Age  Gender Academic_Level     Country  Avg_Daily_Usage_Hours  \\\n",
       "0   19  Female  Undergraduate  Bangladesh                    5.2   \n",
       "1   22    Male       Graduate       India                    2.1   \n",
       "2   20  Female  Undergraduate         USA                    6.0   \n",
       "3   18    Male    High School          UK                    3.0   \n",
       "4   21    Male       Graduate      Canada                    4.5   \n",
       "\n",
       "  Most_Used_Platform Affects_Academic_Performance  Sleep_Hours_Per_Night  \\\n",
       "0          Instagram                          Yes                    6.5   \n",
       "1            Twitter                           No                    7.5   \n",
       "2             TikTok                          Yes                    5.0   \n",
       "3            YouTube                           No                    7.0   \n",
       "4           Facebook                          Yes                    6.0   \n",
       "\n",
       "   Mental_Health_Score Relationship_Status  Conflicts_Over_Social_Media  \\\n",
       "0                    6     In Relationship                            3   \n",
       "1                    8              Single                            0   \n",
       "2                    5         Complicated                            4   \n",
       "3                    7              Single                            1   \n",
       "4                    6     In Relationship                            2   \n",
       "\n",
       "   Addicted_Score  \n",
       "0               8  \n",
       "1               3  \n",
       "2               9  \n",
       "3               4  \n",
       "4               7  "
      ]
     },
     "execution_count": 8,
     "metadata": {},
     "output_type": "execute_result"
    }
   ],
   "source": [
    "dataf = dataf.drop('Student_ID', axis =1) #dropping the column Student_ID since it doesn't have any significane in our analysis.\n",
    "dataf.head()"
   ]
  },
  {
   "cell_type": "markdown",
   "id": "584a7ffa-5b94-42c3-b928-5ce04ec5ca40",
   "metadata": {},
   "source": [
    "##### Q1. On which social media platforms are the students most engaged? And the total no. of conflicts they are involved."
   ]
  },
  {
   "cell_type": "code",
   "execution_count": 9,
   "id": "6de31481-ece3-43c6-9c0e-d8f18de685c0",
   "metadata": {},
   "outputs": [
    {
     "name": "stdout",
     "output_type": "stream",
     "text": [
      "                    Total Users  Total Conflicts\n",
      "Most_Used_Platform                              \n",
      "Instagram                   249              732\n",
      "TikTok                      154              525\n",
      "Facebook                    123              299\n",
      "WhatsApp                     54              187\n",
      "Twitter                      30               73\n",
      "LinkedIn                     21               19\n",
      "WeChat                       15               38\n",
      "Snapchat                     13               42\n",
      "VKontakte                    12               24\n",
      "LINE                         12               12\n",
      "KakaoTalk                    12               36\n",
      "YouTube                      10               22\n"
     ]
    }
   ],
   "source": [
    "#Checking which platform is mostly used by the students\n",
    "total_platform_user = dataf['Most_Used_Platform'].value_counts().rename('Total Users') #Gives the total no. of users for each platform\n",
    "\n",
    "#Show the total no of conflicts incited in each social media platforms\n",
    "total_conflicts = dataf.groupby('Most_Used_Platform')['Conflicts_Over_Social_Media'].sum().rename('Total Conflicts') #Sums up the total no. of conflicts for each social media platform\n",
    "\n",
    "#Combining the total platform user and the conflict value counts for a better display\n",
    "sm_platform_details = pa.concat([total_platform_user, total_conflicts], axis=1)\n",
    "\n",
    "#Sorting in descending order\n",
    "sm_platform_details = sm_platform_details.sort_values(by='Total Users', ascending=False)\n",
    "\n",
    "#Print the output\n",
    "print(sm_platform_details.to_string())\n"
   ]
  },
  {
   "cell_type": "markdown",
   "id": "12c71fcb-4945-4fdc-8cbe-56faf08eefdb",
   "metadata": {},
   "source": [
    "The top 5 most used platforms have strong coorelation with conflicts faced by the students.i.e. higher the no. of users higher the rate of conflicts."
   ]
  },
  {
   "cell_type": "markdown",
   "id": "bccbb6d4-9cfa-4e08-aafd-09bb1d46f979",
   "metadata": {},
   "source": [
    "##### Q2. Finding the countries which have the high average daily usage based on the platform."
   ]
  },
  {
   "cell_type": "code",
   "execution_count": 10,
   "id": "1bbf3bf1-c6aa-4d6f-8124-30b0f2c9621b",
   "metadata": {},
   "outputs": [
    {
     "data": {
      "image/png": "[encoded data removed]",
      "text/plain": [
       "<Figure size 1200x600 with 1 Axes>"
      ]
     },
     "metadata": {},
     "output_type": "display_data"
    }
   ],
   "source": [
    "#Grouping on the basis of Country, Most_Used_Platform and Avg_Daily_Usage_Hours by computing the mean rounding off to 2 decimal places\n",
    "platform_usage_bycountry = (\n",
    "    dataf.groupby(['Country', 'Most_Used_Platform'])['Avg_Daily_Usage_Hours']\n",
    "    .mean()\n",
    "    .round(2)\n",
    "    .reset_index()\n",
    "    .sort_values(by='Avg_Daily_Usage_Hours', ascending=False)\n",
    ")\n",
    "\n",
    "#Plotting the top 15 countries on the basis of usage hours\n",
    "usage_hrs = platform_usage_bycountry.head(15)\n",
    "\n",
    "pt.figure(figsize=(12, 6))\n",
    "sbn.barplot(data=usage_hrs, x='Country', y='Avg_Daily_Usage_Hours', hue='Most_Used_Platform', palette='Set2')\n",
    "\n",
    "pt.title('Average Daily Social Media Usage by Students around the World')\n",
    "pt.ylabel('Avg Hours in a Day')\n",
    "pt.xticks(rotation=45)\n",
    "\n",
    "#Displaying legend at a suitable place\n",
    "pt.legend(title='Social-Media', bbox_to_anchor=(0.97, 1), loc='upper right')\n",
    "\n",
    "#Display the plot\n",
    "pt.show()\n"
   ]
  },
  {
   "cell_type": "markdown",
   "id": "d603deea-96ec-4b97-a653-99561dc0fea4",
   "metadata": {},
   "source": [
    "The widely used social media platform among the students is Instagram followed by Tiktok. American students spend more time on Tiktok and Instagram with an average of 7 hours per day. While Indian students come second with the use of Tiktok and Whatsapp nearly making 7 hours per day. Also, Indian students seem to use WhatsApp more than other international students at more than 6.5 hours per day. Mexican students seem to use 4 different social media platforms more than 6 hours a day. It seems that Mexican students don't have any favourite platform. Meanwhile, the students from the UK tend to use Twitter more than any other social media platforms for an average of more than 6 hours per day. Overall, it is observed that students from the top 15 countries in terms of daily usage, spends more than 6 hours a day in different social media."
   ]
  },
  {
   "cell_type": "markdown",
   "id": "25e30521-4c0a-4e9c-98fc-68240c3460a5",
   "metadata": {},
   "source": [
    "### Data Pre-processing"
   ]
  },
  {
   "cell_type": "markdown",
   "id": "e4ae3081-0e6f-4f84-b318-92388ddc4ad5",
   "metadata": {},
   "source": [
    "##### Converting categorical attributes into numerical attributes\n",
    "\n",
    "We will only convert the columns that we need for further processing."
   ]
  },
  {
   "cell_type": "code",
   "execution_count": 11,
   "id": "c194631c-21ce-4059-9e0f-5485bfbf4751",
   "metadata": {},
   "outputs": [
    {
     "data": {
      "text/html": [
       "<div>\n",
       "<style scoped>\n",
       "    .dataframe tbody tr th:only-of-type {\n",
       "        vertical-align: middle;\n",
       "    }\n",
       "\n",
       "    .dataframe tbody tr th {\n",
       "        vertical-align: top;\n",
       "    }\n",
       "\n",
       "    .dataframe thead th {\n",
       "        text-align: right;\n",
       "    }\n",
       "</style>\n",
       "<table border=\"1\" class=\"dataframe\">\n",
       "  <thead>\n",
       "    <tr style=\"text-align: right;\">\n",
       "      <th></th>\n",
       "      <th>Age</th>\n",
       "      <th>Gender</th>\n",
       "      <th>Academic_Level</th>\n",
       "      <th>Country</th>\n",
       "      <th>Avg_Daily_Usage_Hours</th>\n",
       "      <th>Most_Used_Platform</th>\n",
       "      <th>Affects_Academic_Performance</th>\n",
       "      <th>Sleep_Hours_Per_Night</th>\n",
       "      <th>Mental_Health_Score</th>\n",
       "      <th>Relationship_Status</th>\n",
       "      <th>Conflicts_Over_Social_Media</th>\n",
       "      <th>Addicted_Score</th>\n",
       "    </tr>\n",
       "  </thead>\n",
       "  <tbody>\n",
       "    <tr>\n",
       "      <th>0</th>\n",
       "      <td>19</td>\n",
       "      <td>0</td>\n",
       "      <td>1</td>\n",
       "      <td>Bangladesh</td>\n",
       "      <td>5.2</td>\n",
       "      <td>Instagram</td>\n",
       "      <td>1</td>\n",
       "      <td>6.5</td>\n",
       "      <td>6</td>\n",
       "      <td>2</td>\n",
       "      <td>3</td>\n",
       "      <td>8</td>\n",
       "    </tr>\n",
       "    <tr>\n",
       "      <th>1</th>\n",
       "      <td>22</td>\n",
       "      <td>1</td>\n",
       "      <td>2</td>\n",
       "      <td>India</td>\n",
       "      <td>2.1</td>\n",
       "      <td>Twitter</td>\n",
       "      <td>0</td>\n",
       "      <td>7.5</td>\n",
       "      <td>8</td>\n",
       "      <td>1</td>\n",
       "      <td>0</td>\n",
       "      <td>3</td>\n",
       "    </tr>\n",
       "    <tr>\n",
       "      <th>2</th>\n",
       "      <td>20</td>\n",
       "      <td>0</td>\n",
       "      <td>1</td>\n",
       "      <td>USA</td>\n",
       "      <td>6.0</td>\n",
       "      <td>TikTok</td>\n",
       "      <td>1</td>\n",
       "      <td>5.0</td>\n",
       "      <td>5</td>\n",
       "      <td>0</td>\n",
       "      <td>4</td>\n",
       "      <td>9</td>\n",
       "    </tr>\n",
       "    <tr>\n",
       "      <th>3</th>\n",
       "      <td>18</td>\n",
       "      <td>1</td>\n",
       "      <td>0</td>\n",
       "      <td>UK</td>\n",
       "      <td>3.0</td>\n",
       "      <td>YouTube</td>\n",
       "      <td>0</td>\n",
       "      <td>7.0</td>\n",
       "      <td>7</td>\n",
       "      <td>1</td>\n",
       "      <td>1</td>\n",
       "      <td>4</td>\n",
       "    </tr>\n",
       "    <tr>\n",
       "      <th>4</th>\n",
       "      <td>21</td>\n",
       "      <td>1</td>\n",
       "      <td>2</td>\n",
       "      <td>Canada</td>\n",
       "      <td>4.5</td>\n",
       "      <td>Facebook</td>\n",
       "      <td>1</td>\n",
       "      <td>6.0</td>\n",
       "      <td>6</td>\n",
       "      <td>2</td>\n",
       "      <td>2</td>\n",
       "      <td>7</td>\n",
       "    </tr>\n",
       "  </tbody>\n",
       "</table>\n",
       "</div>"
      ],
      "text/plain": [
       "   Age  Gender  Academic_Level     Country  Avg_Daily_Usage_Hours  \\\n",
       "0   19       0               1  Bangladesh                    5.2   \n",
       "1   22       1               2       India                    2.1   \n",
       "2   20       0               1         USA                    6.0   \n",
       "3   18       1               0          UK                    3.0   \n",
       "4   21       1               2      Canada                    4.5   \n",
       "\n",
       "  Most_Used_Platform  Affects_Academic_Performance  Sleep_Hours_Per_Night  \\\n",
       "0          Instagram                             1                    6.5   \n",
       "1            Twitter                             0                    7.5   \n",
       "2             TikTok                             1                    5.0   \n",
       "3            YouTube                             0                    7.0   \n",
       "4           Facebook                             1                    6.0   \n",
       "\n",
       "   Mental_Health_Score  Relationship_Status  Conflicts_Over_Social_Media  \\\n",
       "0                    6                    2                            3   \n",
       "1                    8                    1                            0   \n",
       "2                    5                    0                            4   \n",
       "3                    7                    1                            1   \n",
       "4                    6                    2                            2   \n",
       "\n",
       "   Addicted_Score  \n",
       "0               8  \n",
       "1               3  \n",
       "2               9  \n",
       "3               4  \n",
       "4               7  "
      ]
     },
     "execution_count": 11,
     "metadata": {},
     "output_type": "execute_result"
    }
   ],
   "source": [
    "dataf['Gender'] = dataf['Gender'].map({'Male': 1, 'Female': 0}) #Converts Gender into numeric values \n",
    "dataf['Academic_Level'] = dataf['Academic_Level'].map({'Graduate': 2, 'Undergraduate': 1, 'High School': 0}) #Converts Academic_Level into numeric values\n",
    "dataf['Affects_Academic_Performance'] = dataf['Affects_Academic_Performance'].map({'Yes': 1, 'No': 0}) #Converts Affects_Academic_Performance into numeric values\n",
    "dataf['Relationship_Status'] = dataf['Relationship_Status'].map({'In Relationship': 2,  'Single': 1, 'Complicated': 0}) #Converts Relationship_Status into numeric values\n",
    "dataf.head(5)"
   ]
  },
  {
   "cell_type": "markdown",
   "id": "c5766f6b-81ce-459c-add3-fc6eec55adf0",
   "metadata": {},
   "source": [
    "Now, we will plot a heatmap to check the correlation of the numerical data."
   ]
  },
  {
   "cell_type": "code",
   "execution_count": 12,
   "id": "ea471bd0-501a-4cfa-a738-45cf83bcd719",
   "metadata": {},
   "outputs": [
    {
     "data": {
      "image/png": "[encoded data removed]",
      "text/plain": [
       "<Figure size 1200x800 with 2 Axes>"
      ]
     },
     "metadata": {},
     "output_type": "display_data"
    }
   ],
   "source": [
    "#For correlation, we will select only the numerical attributes.\n",
    "num_cols = dataf.select_dtypes(include=['number'])\n",
    "\n",
    "#Computing the correlation matrix\n",
    "c_mat = num_cols.corr()\n",
    "\n",
    "#Plotting the correlation heatmap\n",
    "pt.figure(figsize=(12, 8))\n",
    "sbn.heatmap(c_mat, cmap='Blues', linewidths=1, fmt='.3f')\n",
    "pt.title('Correlation Map')\n",
    "pt.show()"
   ]
  },
  {
   "cell_type": "markdown",
   "id": "806b028c-e486-4e94-9835-a2681a3e7acd",
   "metadata": {},
   "source": [
    "We can observe that the labels 'Avg_Daily_Usage_Hours', 'Affects_Academic_Performance', 'Conflicts_Over_Social_Media' and 'Addicted_Score' are positively correlated. Whenever the value of a label increases, the value of other labels also increase. Whenever a student spend more time on social media, it is seen that his/her social conflicts engagement rises and affects the academic performance. As a result, the addicted score also rises.    These labels however have inverse correlation with 'Mental_Health_Score' and 'Sleep_Hours_per_Night'."
   ]
  },
  {
   "cell_type": "markdown",
   "id": "c6d5cfaf-16be-4493-8a07-c249e2a06eee",
   "metadata": {},
   "source": [
    "### Feature Engineering"
   ]
  },
  {
   "cell_type": "markdown",
   "id": "2f9a3cae-547a-4c05-876c-834136ffeb96",
   "metadata": {},
   "source": [
    "##### Assigning age groups to the ages."
   ]
  },
  {
   "cell_type": "markdown",
   "id": "c8a50237-fac1-467e-90fe-07ce56f04473",
   "metadata": {},
   "source": [
    "The dataset consists of 705 entries of students with different ages. So, for a better analysis and evaluation, we will label the ages categorically which will allow us to make specific age group based conclusion."
   ]
  },
  {
   "cell_type": "code",
   "execution_count": 13,
   "id": "89dd069b-83eb-4959-b5b8-8890afadd0bb",
   "metadata": {},
   "outputs": [
    {
     "name": "stdout",
     "output_type": "stream",
     "text": [
      "Age_Group\n",
      "Teenager       177\n",
      "Young Adult    528\n",
      "Name: count, dtype: int64\n"
     ]
    }
   ],
   "source": [
    "#Defining a function ag_gp which will show which group a particular age will fall.\n",
    "def age_gp(age):\n",
    "    if age <= 12:\n",
    "        return 'Child'\n",
    "    elif age <= 19:\n",
    "        return 'Teenager'\n",
    "    elif age <= 25:\n",
    "        return 'Young Adult'\n",
    "    else:\n",
    "        return 'Adult'\n",
    "        \n",
    "dataf['Age_Group'] = dataf['Age'].apply(age_gp) #Creating a new column Age_Group\n",
    "\n",
    "#Counting the number of students in each age group\n",
    "age_gpcts = dataf['Age_Group'].value_counts().sort_index() #Finding the total no. of users group-wise. \n",
    "\n",
    "print(age_gpcts)\n"
   ]
  },
  {
   "cell_type": "code",
   "execution_count": 14,
   "id": "dc5e88ce-a90f-4f52-a505-15a00b827924",
   "metadata": {},
   "outputs": [
    {
     "data": {
      "text/html": [
       "<div>\n",
       "<style scoped>\n",
       "    .dataframe tbody tr th:only-of-type {\n",
       "        vertical-align: middle;\n",
       "    }\n",
       "\n",
       "    .dataframe tbody tr th {\n",
       "        vertical-align: top;\n",
       "    }\n",
       "\n",
       "    .dataframe thead th {\n",
       "        text-align: right;\n",
       "    }\n",
       "</style>\n",
       "<table border=\"1\" class=\"dataframe\">\n",
       "  <thead>\n",
       "    <tr style=\"text-align: right;\">\n",
       "      <th></th>\n",
       "      <th>Age</th>\n",
       "      <th>Gender</th>\n",
       "      <th>Academic_Level</th>\n",
       "      <th>Country</th>\n",
       "      <th>Avg_Daily_Usage_Hours</th>\n",
       "      <th>Most_Used_Platform</th>\n",
       "      <th>Affects_Academic_Performance</th>\n",
       "      <th>Sleep_Hours_Per_Night</th>\n",
       "      <th>Mental_Health_Score</th>\n",
       "      <th>Relationship_Status</th>\n",
       "      <th>Conflicts_Over_Social_Media</th>\n",
       "      <th>Addicted_Score</th>\n",
       "      <th>Age_Group</th>\n",
       "    </tr>\n",
       "  </thead>\n",
       "  <tbody>\n",
       "    <tr>\n",
       "      <th>0</th>\n",
       "      <td>19</td>\n",
       "      <td>0</td>\n",
       "      <td>1</td>\n",
       "      <td>Bangladesh</td>\n",
       "      <td>5.2</td>\n",
       "      <td>Instagram</td>\n",
       "      <td>1</td>\n",
       "      <td>6.5</td>\n",
       "      <td>6</td>\n",
       "      <td>2</td>\n",
       "      <td>3</td>\n",
       "      <td>8</td>\n",
       "      <td>Teenager</td>\n",
       "    </tr>\n",
       "    <tr>\n",
       "      <th>1</th>\n",
       "      <td>22</td>\n",
       "      <td>1</td>\n",
       "      <td>2</td>\n",
       "      <td>India</td>\n",
       "      <td>2.1</td>\n",
       "      <td>Twitter</td>\n",
       "      <td>0</td>\n",
       "      <td>7.5</td>\n",
       "      <td>8</td>\n",
       "      <td>1</td>\n",
       "      <td>0</td>\n",
       "      <td>3</td>\n",
       "      <td>Young Adult</td>\n",
       "    </tr>\n",
       "    <tr>\n",
       "      <th>2</th>\n",
       "      <td>20</td>\n",
       "      <td>0</td>\n",
       "      <td>1</td>\n",
       "      <td>USA</td>\n",
       "      <td>6.0</td>\n",
       "      <td>TikTok</td>\n",
       "      <td>1</td>\n",
       "      <td>5.0</td>\n",
       "      <td>5</td>\n",
       "      <td>0</td>\n",
       "      <td>4</td>\n",
       "      <td>9</td>\n",
       "      <td>Young Adult</td>\n",
       "    </tr>\n",
       "    <tr>\n",
       "      <th>3</th>\n",
       "      <td>18</td>\n",
       "      <td>1</td>\n",
       "      <td>0</td>\n",
       "      <td>UK</td>\n",
       "      <td>3.0</td>\n",
       "      <td>YouTube</td>\n",
       "      <td>0</td>\n",
       "      <td>7.0</td>\n",
       "      <td>7</td>\n",
       "      <td>1</td>\n",
       "      <td>1</td>\n",
       "      <td>4</td>\n",
       "      <td>Teenager</td>\n",
       "    </tr>\n",
       "    <tr>\n",
       "      <th>4</th>\n",
       "      <td>21</td>\n",
       "      <td>1</td>\n",
       "      <td>2</td>\n",
       "      <td>Canada</td>\n",
       "      <td>4.5</td>\n",
       "      <td>Facebook</td>\n",
       "      <td>1</td>\n",
       "      <td>6.0</td>\n",
       "      <td>6</td>\n",
       "      <td>2</td>\n",
       "      <td>2</td>\n",
       "      <td>7</td>\n",
       "      <td>Young Adult</td>\n",
       "    </tr>\n",
       "  </tbody>\n",
       "</table>\n",
       "</div>"
      ],
      "text/plain": [
       "   Age  Gender  Academic_Level     Country  Avg_Daily_Usage_Hours  \\\n",
       "0   19       0               1  Bangladesh                    5.2   \n",
       "1   22       1               2       India                    2.1   \n",
       "2   20       0               1         USA                    6.0   \n",
       "3   18       1               0          UK                    3.0   \n",
       "4   21       1               2      Canada                    4.5   \n",
       "\n",
       "  Most_Used_Platform  Affects_Academic_Performance  Sleep_Hours_Per_Night  \\\n",
       "0          Instagram                             1                    6.5   \n",
       "1            Twitter                             0                    7.5   \n",
       "2             TikTok                             1                    5.0   \n",
       "3            YouTube                             0                    7.0   \n",
       "4           Facebook                             1                    6.0   \n",
       "\n",
       "   Mental_Health_Score  Relationship_Status  Conflicts_Over_Social_Media  \\\n",
       "0                    6                    2                            3   \n",
       "1                    8                    1                            0   \n",
       "2                    5                    0                            4   \n",
       "3                    7                    1                            1   \n",
       "4                    6                    2                            2   \n",
       "\n",
       "   Addicted_Score    Age_Group  \n",
       "0               8     Teenager  \n",
       "1               3  Young Adult  \n",
       "2               9  Young Adult  \n",
       "3               4     Teenager  \n",
       "4               7  Young Adult  "
      ]
     },
     "execution_count": 14,
     "metadata": {},
     "output_type": "execute_result"
    }
   ],
   "source": [
    "dataf.head(5) #Now a new feature with Age_Group is created at the end."
   ]
  },
  {
   "cell_type": "markdown",
   "id": "6e024866-dcc6-4f84-80ad-1290bd51b50e",
   "metadata": {},
   "source": [
    "##### Q4. Analysing which age-group and gender is addicted to social media more."
   ]
  },
  {
   "cell_type": "code",
   "execution_count": 42,
   "id": "608bcfc2-6ef5-46e8-a120-5352f73ec2cf",
   "metadata": {},
   "outputs": [
    {
     "name": "stdout",
     "output_type": "stream",
     "text": [
      "  Age_Group  Gender  Avg_Daily_Usage_Hours  Addicted_Score Most_Used_Platform\n",
      "   Teenager       0                   5.16            6.68          Instagram\n",
      "   Teenager       1                   5.07            6.97             TikTok\n",
      "Young Adult       0                   4.91            6.41          Instagram\n",
      "Young Adult       1                   4.80            6.29           Facebook\n"
     ]
    }
   ],
   "source": [
    "#Defining a function to get the most used platform\n",
    "def top_sm_platform(series):\n",
    "    return series.mode().iloc[0] if not series.mode().empty else None\n",
    "\n",
    "#Grouping Age_Group and Gender and calculating the mean values Avg_Daily_Usage_Hours, Sleep_Hours_Per_Night since we need mean values of these features.\n",
    "gp_stats = dataf.groupby(['Age_Group', 'Gender'])[['Avg_Daily_Usage_Hours', 'Addicted_Score']].mean().round(2) #taking the mean values for the labels\n",
    "\n",
    "#Grouping Age_Group and Gender and using the agg function to calculate the counts of Most_Used_Platform\n",
    "platform_mode = dataf.groupby(['Age_Group', 'Gender'])['Most_Used_Platform'].agg(top_sm_platform)  \n",
    "\n",
    "gp_stats['Most_Used_Platform'] = platform_mode\n",
    "\n",
    "#Sorting the values by Avg_Daily_Usage_Hours and reindexing\n",
    "sorted_stats = gp_stats.sort_values(by='Avg_Daily_Usage_Hours', ascending=False).reset_index()\n",
    "\n",
    "print(sorted_stats.to_string(index=False))"
   ]
  },
  {
   "cell_type": "markdown",
   "id": "5bb872c3-f4ec-4709-97f2-11d0b517fd32",
   "metadata": {},
   "source": [
    "From the output above, on a daily basis, teenagers tend to use social media more than young adults. On the contrary, female tend to spend more time on social media. It is also clear that female are addicted to using Instagram while male prefer Tiktok and Facebook. Female teenagers have comparatively low 'Addicted_Score' than male teenagers although they have higher usage hours. For young adults, we see direct relation, higher the usage hours higher the 'Addicted_Score'."
   ]
  },
  {
   "cell_type": "markdown",
   "id": "f0e36a8c-c272-4feb-b1dd-4b4430189d5b",
   "metadata": {},
   "source": [
    "##### Q3. How many students are in need of immediate therapy or care? What are the average usage hours for each addiction score?"
   ]
  },
  {
   "cell_type": "code",
   "execution_count": 48,
   "id": "0af8e0d9-5e89-4f51-b2fd-91e3d1ed1bef",
   "metadata": {},
   "outputs": [
    {
     "name": "stdout",
     "output_type": "stream",
     "text": [
      "Total number of students with their addiction score and level:\n",
      "\n",
      "   Addiction Score  Total Students Addiction Level\n",
      "0                7             209            High\n",
      "1                8             144         Extreme\n",
      "2                5             136        Moderate\n",
      "3                4              83        Moderate\n",
      "4                6              61            High\n",
      "5                9              55         Extreme\n",
      "6                3              16             Low\n",
      "7                2               1             Low\n"
     ]
    }
   ],
   "source": [
    "#Counting the total for each Addicted_score\n",
    "total_addicted = dataf['Addicted_Score'].value_counts().reset_index()\n",
    "total_addicted.columns = ['Addiction Score', 'Total Students']\n",
    "\n",
    "#Defining function to map the score label from numerical to categorical\n",
    "def label_score(score):\n",
    "    if score <= 3:\n",
    "        return 'Low'\n",
    "    elif score <= 5:\n",
    "        return 'Moderate'\n",
    "    elif score <= 7:\n",
    "        return 'High'\n",
    "    elif score >7:\n",
    "        return 'Extreme'\n",
    "\n",
    "#Adding Addiction Level column that will store the categorical value of the addicted score\n",
    "total_addicted['Addiction Level'] = total_addicted['Addiction Score'].apply(label_score)\n",
    "\n",
    "#Printing the result.\n",
    "print(\"Total number of students with their addiction score and level:\\n\")\n",
    "print(total_addicted)\n"
   ]
  },
  {
   "cell_type": "markdown",
   "id": "f1d565c2-98eb-474b-821e-928cccd9066e",
   "metadata": {},
   "source": [
    "209 students have an addiction score of 7. 144 students have the addiction score 8. Meanwhile, 55 students have the highest addiction score. Only one student has the addiction score of 2 keeping away from conflicts with a healthy lifestyle. Now, let us find how many students need immediate support and guidance to stay away from social media platforms and improve their social well-being and academic performance as well."
   ]
  },
  {
   "cell_type": "code",
   "execution_count": 50,
   "id": "ae517bf1-25ea-408a-ac61-77209826925e",
   "metadata": {},
   "outputs": [
    {
     "name": "stdout",
     "output_type": "stream",
     "text": [
      "Total number of students: 705\n",
      "Students with High or Extreme addiction: 469\n"
     ]
    }
   ],
   "source": [
    "total_students = total_addicted['Total Students'].sum()\n",
    "\n",
    "#Calculating total number of students with High or Extreme addiction levels\n",
    "high_extreme_level = total_addicted[total_addicted['Addiction Level'].isin(['High', 'Extreme'])]\n",
    "total_high_extreme_level  = high_extreme_level ['Total Students'].sum()\n",
    "\n",
    "#Displaying the results\n",
    "print(f\"Total number of students: {total_students}\")\n",
    "print(f\"Students with High or Extreme addiction: {total_high_extreme}\")\n"
   ]
  },
  {
   "cell_type": "markdown",
   "id": "d65aa9c6-d5c8-4af0-8f98-4db24a6e3aca",
   "metadata": {},
   "source": [
    "From the output above, we can see that 469(more than half of the total students) students have strong addiction to the use of social media usage. We will calculate the average daily usage hours for each addiction score below."
   ]
  },
  {
   "cell_type": "code",
   "execution_count": 52,
   "id": "42b10c81-39e4-4188-a540-c37cd433994c",
   "metadata": {},
   "outputs": [
    {
     "name": "stdout",
     "output_type": "stream",
     "text": [
      "   Addicted_Score  Average_Usage_Hours\n",
      "0               2                 1.50\n",
      "1               3                 2.98\n",
      "2               4                 3.26\n",
      "3               5                 4.18\n",
      "4               6                 4.40\n",
      "5               7                 5.10\n",
      "6               8                 5.97\n",
      "7               9                 7.01\n"
     ]
    }
   ],
   "source": [
    "#Calculating the mean daily usage hours of the students\n",
    "mean_daily_usage_hours = dataf.groupby('Addicted_Score', as_index=False)['Avg_Daily_Usage_Hours'].mean().round(2)\n",
    "mean_daily_usage_hours.columns = ['Addicted_Score', 'Average_Usage_Hours']\n",
    "print(mean_daily_usage_hours)"
   ]
  },
  {
   "cell_type": "markdown",
   "id": "f12952b7-e41d-43e5-8973-eb4188e8c26c",
   "metadata": {},
   "source": [
    "From the analysis, students with high and extreme addiction score tend to spend more than 5 hours a day in social media attracting more conflicts and degrading their academic growth, thus affecting their social lifestyle."
   ]
  },
  {
   "cell_type": "markdown",
   "id": "f906600f-9175-447b-8268-a0e918568ebe",
   "metadata": {},
   "source": [
    "##### Q5. Does the student's lifestyle affect the mental health and academic performance?"
   ]
  },
  {
   "cell_type": "code",
   "execution_count": 16,
   "id": "ec152aae-f803-42fc-9ee5-5c7231e5e7b6",
   "metadata": {},
   "outputs": [
    {
     "data": {
      "text/html": [
       "<div>\n",
       "<style scoped>\n",
       "    .dataframe tbody tr th:only-of-type {\n",
       "        vertical-align: middle;\n",
       "    }\n",
       "\n",
       "    .dataframe tbody tr th {\n",
       "        vertical-align: top;\n",
       "    }\n",
       "\n",
       "    .dataframe thead th {\n",
       "        text-align: right;\n",
       "    }\n",
       "</style>\n",
       "<table border=\"1\" class=\"dataframe\">\n",
       "  <thead>\n",
       "    <tr style=\"text-align: right;\">\n",
       "      <th></th>\n",
       "      <th>Avg_Daily_Usage_Hours</th>\n",
       "      <th>Sleep_Hours_Per_Night</th>\n",
       "      <th>Mental_Health_Score</th>\n",
       "      <th>Affects_Academic_Performance</th>\n",
       "    </tr>\n",
       "  </thead>\n",
       "  <tbody>\n",
       "    <tr>\n",
       "      <th>Avg_Daily_Usage_Hours</th>\n",
       "      <td>1.000000</td>\n",
       "      <td>-0.790582</td>\n",
       "      <td>-0.801058</td>\n",
       "      <td>0.661474</td>\n",
       "    </tr>\n",
       "    <tr>\n",
       "      <th>Sleep_Hours_Per_Night</th>\n",
       "      <td>-0.790582</td>\n",
       "      <td>1.000000</td>\n",
       "      <td>0.707439</td>\n",
       "      <td>-0.625373</td>\n",
       "    </tr>\n",
       "    <tr>\n",
       "      <th>Mental_Health_Score</th>\n",
       "      <td>-0.801058</td>\n",
       "      <td>0.707439</td>\n",
       "      <td>1.000000</td>\n",
       "      <td>-0.808921</td>\n",
       "    </tr>\n",
       "    <tr>\n",
       "      <th>Affects_Academic_Performance</th>\n",
       "      <td>0.661474</td>\n",
       "      <td>-0.625373</td>\n",
       "      <td>-0.808921</td>\n",
       "      <td>1.000000</td>\n",
       "    </tr>\n",
       "  </tbody>\n",
       "</table>\n",
       "</div>"
      ],
      "text/plain": [
       "                              Avg_Daily_Usage_Hours  Sleep_Hours_Per_Night  \\\n",
       "Avg_Daily_Usage_Hours                      1.000000              -0.790582   \n",
       "Sleep_Hours_Per_Night                     -0.790582               1.000000   \n",
       "Mental_Health_Score                       -0.801058               0.707439   \n",
       "Affects_Academic_Performance               0.661474              -0.625373   \n",
       "\n",
       "                              Mental_Health_Score  \\\n",
       "Avg_Daily_Usage_Hours                   -0.801058   \n",
       "Sleep_Hours_Per_Night                    0.707439   \n",
       "Mental_Health_Score                      1.000000   \n",
       "Affects_Academic_Performance            -0.808921   \n",
       "\n",
       "                              Affects_Academic_Performance  \n",
       "Avg_Daily_Usage_Hours                             0.661474  \n",
       "Sleep_Hours_Per_Night                            -0.625373  \n",
       "Mental_Health_Score                              -0.808921  \n",
       "Affects_Academic_Performance                      1.000000  "
      ]
     },
     "execution_count": 16,
     "metadata": {},
     "output_type": "execute_result"
    }
   ],
   "source": [
    "#Listing the labels that relates to lifestyle\n",
    "lifestyle = ['Avg_Daily_Usage_Hours', 'Sleep_Hours_Per_Night', 'Mental_Health_Score','Affects_Academic_Performance' ]\n",
    "lifestyle_matrix = dataf[lifestyle].corr() #Finding correlation between the labels\n",
    "lifestyle_matrix #printing the correlation output "
   ]
  },
  {
   "cell_type": "markdown",
   "id": "c4916921-21b7-4e19-9668-6f2baccb49c1",
   "metadata": {},
   "source": [
    "From the output above, it is clear that the lifestyle of the students directly affect their mental health and academic performance.\n",
    "The mental health of the students is inversely correlated to daily usage hours.\n",
    "* spending more time on social media leads to weak mental health\n",
    "* addiction and conflicts may be the significance factors to weaken the mental health\n",
    "\n",
    "\n",
    "Academic performance has moderate positive relation to daily usage hours.\n",
    "* students may lose focus on the study and eventually affect their academic performance\n",
    "\n",
    "  \n",
    "Sleep hours have strong correlation with mental health\n",
    "* students with more sleeping hours have robust mental health\n",
    "* less amount of sleep affect the academic performance\n",
    "Decrease in academic performance is the direct cause of mental health.\n",
    "\n",
    "To improve the academic performance and maintain a good mental health, students should be advised to minimize the use of social media and avoid social media conflicts."
   ]
  },
  {
   "cell_type": "markdown",
   "id": "73629374-685c-4730-aa25-a12a3b1283c8",
   "metadata": {},
   "source": [
    "##### Q6. How is the Academic Performance of the students related to Average Daily Usage Hours?"
   ]
  },
  {
   "cell_type": "markdown",
   "id": "8ced50dd-b790-4317-8ce0-02509324239c",
   "metadata": {},
   "source": [
    "We will create an hour group for the Avg_Daily_Usage_Hours. Based on that hour group we will calculate the total no. of students whose academic performance have been affected. "
   ]
  },
  {
   "cell_type": "code",
   "execution_count": 53,
   "id": "4c342296-f653-4a38-b0bd-1ba683037252",
   "metadata": {
    "scrolled": true
   },
   "outputs": [
    {
     "data": {
      "image/png": "[encoded data removed]",
      "text/plain": [
       "<Figure size 1000x600 with 1 Axes>"
      ]
     },
     "metadata": {},
     "output_type": "display_data"
    }
   ],
   "source": [
    "#Creating an hour group\n",
    "hours_bins = [0, 2, 4, 6, float('inf')] #float('inf') refers to infinite positive number\n",
    "hours_labels = ['0–2 hrs (Low)', '2–4 hrs (Moderate)', '4–6 hrs (High)', '6+ hrs (Very High)'] #labeling hours\n",
    "\n",
    "#Creating a new label which will replace the avg hours by hour group\n",
    "dataf['Hours_Usage_Group'] = pa.cut(dataf['Avg_Daily_Usage_Hours'], bins = hours_bins, labels= hours_labels, right = False)\n",
    "\n",
    "#Grouping by Hours_Usage_Group and Affects_Academic_Performance \n",
    "grouped = dataf.groupby(['Hours_Usage_Group', 'Affects_Academic_Performance']).size().unstack()\n",
    "grouped.columns = ['Not Affected', 'Affected']\n",
    "\n",
    "#Plotting the graph\n",
    "grouped.plot(kind='bar', figsize=(10, 6), color=['#38cb82', '#FF8488'])\n",
    "pt.title('Academic Performance Impact')\n",
    "pt.xlabel('Average Daily Usage Hours')\n",
    "pt.ylabel('Number of Students')\n",
    "pt.xticks(rotation=45)\n",
    "pt.legend(title='Academic Performance')\n",
    "pt.show()"
   ]
  },
  {
   "cell_type": "markdown",
   "id": "710f593b-bad5-4502-b727-614ffcc596e5",
   "metadata": {},
   "source": [
    "The academic performance of around 150 students are highly affected since they spend more than 6 hours on different social media platforms. More than 400 students use social media platforms for 4-6 hours. This usage period has the highest no. of students (more than 2501) whose academic performance are affected. The  no. of affected ones in the lowest hour group is 0. Conclusively, the decline in academic performance increases with the increase in the duration of the usage of social media platforms."
   ]
  },
  {
   "cell_type": "markdown",
   "id": "9f506698-dfc0-443d-88ae-c594bbfb949c",
   "metadata": {},
   "source": [
    "#### Determing the most influenced feature for 'Affects_Academic_Performance'."
   ]
  },
  {
   "cell_type": "code",
   "execution_count": 20,
   "id": "c9272d5b-1884-48bd-a066-88bcb0a42201",
   "metadata": {},
   "outputs": [],
   "source": [
    "#Preparing data for train and test\n",
    "X = dataf.drop(columns=['Affects_Academic_Performance'])\n",
    "y = dataf['Affects_Academic_Performance']\n",
    "\n",
    "#Converting all the categorical columns to numerical using LabelEncoder\n",
    "label_encoder = LabelEncoder()\n",
    "for col in X.columns:\n",
    "    if X[col].dtype == 'object' or X[col].dtype.name == 'category':\n",
    "        X[col] = label_encoder.fit_transform(X[col])"
   ]
  },
  {
   "cell_type": "code",
   "execution_count": 21,
   "id": "b06bb17f-84e4-4481-be52-32af0befad1b",
   "metadata": {},
   "outputs": [
    {
     "data": {
      "text/plain": [
       "Affects_Academic_Performance\n",
       "1    453\n",
       "0    252\n",
       "Name: count, dtype: int64"
      ]
     },
     "execution_count": 21,
     "metadata": {},
     "output_type": "execute_result"
    }
   ],
   "source": [
    "dataf['Affects_Academic_Performance'].value_counts()"
   ]
  },
  {
   "cell_type": "markdown",
   "id": "1a62da40-4e5a-4baf-b574-072caf1af3f5",
   "metadata": {},
   "source": [
    "Since the counts for Affected are almost twice of Not Affected, we will use stratify parameter while splitting the data. Stratify is used to ensure the ratio of train and test dataset by representing the whole dataset."
   ]
  },
  {
   "cell_type": "code",
   "execution_count": 23,
   "id": "e6d01db5-3016-4375-92c0-a03b42b6a069",
   "metadata": {},
   "outputs": [],
   "source": [
    "#Splitting the data into train and test dataset\n",
    "X_train, X_test, y_train, y_test = train_test_split(X, y, test_size=0.2, random_state=42, stratify = y) #stratify = y , to ensure class balance."
   ]
  },
  {
   "cell_type": "markdown",
   "id": "c271a637-f682-4f77-8a30-9e3339084b55",
   "metadata": {},
   "source": [
    " We will use RandomForestClasifier since it provides the best result to determine feature importance."
   ]
  },
  {
   "cell_type": "code",
   "execution_count": 24,
   "id": "085c6b2a-320e-4a6e-adff-f50fa7e9f225",
   "metadata": {},
   "outputs": [
    {
     "data": {
      "text/html": [
       "<style>#sk-container-id-1 {\n",
       "  /* Definition of color scheme common for light and dark mode */\n",
       "  --sklearn-color-text: #000;\n",
       "  --sklearn-color-text-muted: #666;\n",
       "  --sklearn-color-line: gray;\n",
       "  /* Definition of color scheme for unfitted estimators */\n",
       "  --sklearn-color-unfitted-level-0: #fff5e6;\n",
       "  --sklearn-color-unfitted-level-1: #f6e4d2;\n",
       "  --sklearn-color-unfitted-level-2: #ffe0b3;\n",
       "  --sklearn-color-unfitted-level-3: chocolate;\n",
       "  /* Definition of color scheme for fitted estimators */\n",
       "  --sklearn-color-fitted-level-0: #f0f8ff;\n",
       "  --sklearn-color-fitted-level-1: #d4ebff;\n",
       "  --sklearn-color-fitted-level-2: #b3dbfd;\n",
       "  --sklearn-color-fitted-level-3: cornflowerblue;\n",
       "\n",
       "  /* Specific color for light theme */\n",
       "  --sklearn-color-text-on-default-background: var(--sg-text-color, var(--theme-code-foreground, var(--jp-content-font-color1, black)));\n",
       "  --sklearn-color-background: var(--sg-background-color, var(--theme-background, var(--jp-layout-color0, white)));\n",
       "  --sklearn-color-border-box: var(--sg-text-color, var(--theme-code-foreground, var(--jp-content-font-color1, black)));\n",
       "  --sklearn-color-icon: #696969;\n",
       "\n",
       "  @media (prefers-color-scheme: dark) {\n",
       "    /* Redefinition of color scheme for dark theme */\n",
       "    --sklearn-color-text-on-default-background: var(--sg-text-color, var(--theme-code-foreground, var(--jp-content-font-color1, white)));\n",
       "    --sklearn-color-background: var(--sg-background-color, var(--theme-background, var(--jp-layout-color0, #111)));\n",
       "    --sklearn-color-border-box: var(--sg-text-color, var(--theme-code-foreground, var(--jp-content-font-color1, white)));\n",
       "    --sklearn-color-icon: #878787;\n",
       "  }\n",
       "}\n",
       "\n",
       "#sk-container-id-1 {\n",
       "  color: var(--sklearn-color-text);\n",
       "}\n",
       "\n",
       "#sk-container-id-1 pre {\n",
       "  padding: 0;\n",
       "}\n",
       "\n",
       "#sk-container-id-1 input.sk-hidden--visually {\n",
       "  border: 0;\n",
       "  clip: rect(1px 1px 1px 1px);\n",
       "  clip: rect(1px, 1px, 1px, 1px);\n",
       "  height: 1px;\n",
       "  margin: -1px;\n",
       "  overflow: hidden;\n",
       "  padding: 0;\n",
       "  position: absolute;\n",
       "  width: 1px;\n",
       "}\n",
       "\n",
       "#sk-container-id-1 div.sk-dashed-wrapped {\n",
       "  border: 1px dashed var(--sklearn-color-line);\n",
       "  margin: 0 0.4em 0.5em 0.4em;\n",
       "  box-sizing: border-box;\n",
       "  padding-bottom: 0.4em;\n",
       "  background-color: var(--sklearn-color-background);\n",
       "}\n",
       "\n",
       "#sk-container-id-1 div.sk-container {\n",
       "  /* jupyter's `normalize.less` sets `[hidden] { display: none; }`\n",
       "     but bootstrap.min.css set `[hidden] { display: none !important; }`\n",
       "     so we also need the `!important` here to be able to override the\n",
       "     default hidden behavior on the sphinx rendered scikit-learn.org.\n",
       "     See: https://github.com/scikit-learn/scikit-learn/issues/21755 */\n",
       "  display: inline-block !important;\n",
       "  position: relative;\n",
       "}\n",
       "\n",
       "#sk-container-id-1 div.sk-text-repr-fallback {\n",
       "  display: none;\n",
       "}\n",
       "\n",
       "div.sk-parallel-item,\n",
       "div.sk-serial,\n",
       "div.sk-item {\n",
       "  /* draw centered vertical line to link estimators */\n",
       "  background-image: linear-gradient(var(--sklearn-color-text-on-default-background), var(--sklearn-color-text-on-default-background));\n",
       "  background-size: 2px 100%;\n",
       "  background-repeat: no-repeat;\n",
       "  background-position: center center;\n",
       "}\n",
       "\n",
       "/* Parallel-specific style estimator block */\n",
       "\n",
       "#sk-container-id-1 div.sk-parallel-item::after {\n",
       "  content: \"\";\n",
       "  width: 100%;\n",
       "  border-bottom: 2px solid var(--sklearn-color-text-on-default-background);\n",
       "  flex-grow: 1;\n",
       "}\n",
       "\n",
       "#sk-container-id-1 div.sk-parallel {\n",
       "  display: flex;\n",
       "  align-items: stretch;\n",
       "  justify-content: center;\n",
       "  background-color: var(--sklearn-color-background);\n",
       "  position: relative;\n",
       "}\n",
       "\n",
       "#sk-container-id-1 div.sk-parallel-item {\n",
       "  display: flex;\n",
       "  flex-direction: column;\n",
       "}\n",
       "\n",
       "#sk-container-id-1 div.sk-parallel-item:first-child::after {\n",
       "  align-self: flex-end;\n",
       "  width: 50%;\n",
       "}\n",
       "\n",
       "#sk-container-id-1 div.sk-parallel-item:last-child::after {\n",
       "  align-self: flex-start;\n",
       "  width: 50%;\n",
       "}\n",
       "\n",
       "#sk-container-id-1 div.sk-parallel-item:only-child::after {\n",
       "  width: 0;\n",
       "}\n",
       "\n",
       "/* Serial-specific style estimator block */\n",
       "\n",
       "#sk-container-id-1 div.sk-serial {\n",
       "  display: flex;\n",
       "  flex-direction: column;\n",
       "  align-items: center;\n",
       "  background-color: var(--sklearn-color-background);\n",
       "  padding-right: 1em;\n",
       "  padding-left: 1em;\n",
       "}\n",
       "\n",
       "\n",
       "/* Toggleable style: style used for estimator/Pipeline/ColumnTransformer box that is\n",
       "clickable and can be expanded/collapsed.\n",
       "- Pipeline and ColumnTransformer use this feature and define the default style\n",
       "- Estimators will overwrite some part of the style using the `sk-estimator` class\n",
       "*/\n",
       "\n",
       "/* Pipeline and ColumnTransformer style (default) */\n",
       "\n",
       "#sk-container-id-1 div.sk-toggleable {\n",
       "  /* Default theme specific background. It is overwritten whether we have a\n",
       "  specific estimator or a Pipeline/ColumnTransformer */\n",
       "  background-color: var(--sklearn-color-background);\n",
       "}\n",
       "\n",
       "/* Toggleable label */\n",
       "#sk-container-id-1 label.sk-toggleable__label {\n",
       "  cursor: pointer;\n",
       "  display: flex;\n",
       "  width: 100%;\n",
       "  margin-bottom: 0;\n",
       "  padding: 0.5em;\n",
       "  box-sizing: border-box;\n",
       "  text-align: center;\n",
       "  align-items: start;\n",
       "  justify-content: space-between;\n",
       "  gap: 0.5em;\n",
       "}\n",
       "\n",
       "#sk-container-id-1 label.sk-toggleable__label .caption {\n",
       "  font-size: 0.6rem;\n",
       "  font-weight: lighter;\n",
       "  color: var(--sklearn-color-text-muted);\n",
       "}\n",
       "\n",
       "#sk-container-id-1 label.sk-toggleable__label-arrow:before {\n",
       "  /* Arrow on the left of the label */\n",
       "  content: \"▸\";\n",
       "  float: left;\n",
       "  margin-right: 0.25em;\n",
       "  color: var(--sklearn-color-icon);\n",
       "}\n",
       "\n",
       "#sk-container-id-1 label.sk-toggleable__label-arrow:hover:before {\n",
       "  color: var(--sklearn-color-text);\n",
       "}\n",
       "\n",
       "/* Toggleable content - dropdown */\n",
       "\n",
       "#sk-container-id-1 div.sk-toggleable__content {\n",
       "  max-height: 0;\n",
       "  max-width: 0;\n",
       "  overflow: hidden;\n",
       "  text-align: left;\n",
       "  /* unfitted */\n",
       "  background-color: var(--sklearn-color-unfitted-level-0);\n",
       "}\n",
       "\n",
       "#sk-container-id-1 div.sk-toggleable__content.fitted {\n",
       "  /* fitted */\n",
       "  background-color: var(--sklearn-color-fitted-level-0);\n",
       "}\n",
       "\n",
       "#sk-container-id-1 div.sk-toggleable__content pre {\n",
       "  margin: 0.2em;\n",
       "  border-radius: 0.25em;\n",
       "  color: var(--sklearn-color-text);\n",
       "  /* unfitted */\n",
       "  background-color: var(--sklearn-color-unfitted-level-0);\n",
       "}\n",
       "\n",
       "#sk-container-id-1 div.sk-toggleable__content.fitted pre {\n",
       "  /* unfitted */\n",
       "  background-color: var(--sklearn-color-fitted-level-0);\n",
       "}\n",
       "\n",
       "#sk-container-id-1 input.sk-toggleable__control:checked~div.sk-toggleable__content {\n",
       "  /* Expand drop-down */\n",
       "  max-height: 200px;\n",
       "  max-width: 100%;\n",
       "  overflow: auto;\n",
       "}\n",
       "\n",
       "#sk-container-id-1 input.sk-toggleable__control:checked~label.sk-toggleable__label-arrow:before {\n",
       "  content: \"▾\";\n",
       "}\n",
       "\n",
       "/* Pipeline/ColumnTransformer-specific style */\n",
       "\n",
       "#sk-container-id-1 div.sk-label input.sk-toggleable__control:checked~label.sk-toggleable__label {\n",
       "  color: var(--sklearn-color-text);\n",
       "  background-color: var(--sklearn-color-unfitted-level-2);\n",
       "}\n",
       "\n",
       "#sk-container-id-1 div.sk-label.fitted input.sk-toggleable__control:checked~label.sk-toggleable__label {\n",
       "  background-color: var(--sklearn-color-fitted-level-2);\n",
       "}\n",
       "\n",
       "/* Estimator-specific style */\n",
       "\n",
       "/* Colorize estimator box */\n",
       "#sk-container-id-1 div.sk-estimator input.sk-toggleable__control:checked~label.sk-toggleable__label {\n",
       "  /* unfitted */\n",
       "  background-color: var(--sklearn-color-unfitted-level-2);\n",
       "}\n",
       "\n",
       "#sk-container-id-1 div.sk-estimator.fitted input.sk-toggleable__control:checked~label.sk-toggleable__label {\n",
       "  /* fitted */\n",
       "  background-color: var(--sklearn-color-fitted-level-2);\n",
       "}\n",
       "\n",
       "#sk-container-id-1 div.sk-label label.sk-toggleable__label,\n",
       "#sk-container-id-1 div.sk-label label {\n",
       "  /* The background is the default theme color */\n",
       "  color: var(--sklearn-color-text-on-default-background);\n",
       "}\n",
       "\n",
       "/* On hover, darken the color of the background */\n",
       "#sk-container-id-1 div.sk-label:hover label.sk-toggleable__label {\n",
       "  color: var(--sklearn-color-text);\n",
       "  background-color: var(--sklearn-color-unfitted-level-2);\n",
       "}\n",
       "\n",
       "/* Label box, darken color on hover, fitted */\n",
       "#sk-container-id-1 div.sk-label.fitted:hover label.sk-toggleable__label.fitted {\n",
       "  color: var(--sklearn-color-text);\n",
       "  background-color: var(--sklearn-color-fitted-level-2);\n",
       "}\n",
       "\n",
       "/* Estimator label */\n",
       "\n",
       "#sk-container-id-1 div.sk-label label {\n",
       "  font-family: monospace;\n",
       "  font-weight: bold;\n",
       "  display: inline-block;\n",
       "  line-height: 1.2em;\n",
       "}\n",
       "\n",
       "#sk-container-id-1 div.sk-label-container {\n",
       "  text-align: center;\n",
       "}\n",
       "\n",
       "/* Estimator-specific */\n",
       "#sk-container-id-1 div.sk-estimator {\n",
       "  font-family: monospace;\n",
       "  border: 1px dotted var(--sklearn-color-border-box);\n",
       "  border-radius: 0.25em;\n",
       "  box-sizing: border-box;\n",
       "  margin-bottom: 0.5em;\n",
       "  /* unfitted */\n",
       "  background-color: var(--sklearn-color-unfitted-level-0);\n",
       "}\n",
       "\n",
       "#sk-container-id-1 div.sk-estimator.fitted {\n",
       "  /* fitted */\n",
       "  background-color: var(--sklearn-color-fitted-level-0);\n",
       "}\n",
       "\n",
       "/* on hover */\n",
       "#sk-container-id-1 div.sk-estimator:hover {\n",
       "  /* unfitted */\n",
       "  background-color: var(--sklearn-color-unfitted-level-2);\n",
       "}\n",
       "\n",
       "#sk-container-id-1 div.sk-estimator.fitted:hover {\n",
       "  /* fitted */\n",
       "  background-color: var(--sklearn-color-fitted-level-2);\n",
       "}\n",
       "\n",
       "/* Specification for estimator info (e.g. \"i\" and \"?\") */\n",
       "\n",
       "/* Common style for \"i\" and \"?\" */\n",
       "\n",
       ".sk-estimator-doc-link,\n",
       "a:link.sk-estimator-doc-link,\n",
       "a:visited.sk-estimator-doc-link {\n",
       "  float: right;\n",
       "  font-size: smaller;\n",
       "  line-height: 1em;\n",
       "  font-family: monospace;\n",
       "  background-color: var(--sklearn-color-background);\n",
       "  border-radius: 1em;\n",
       "  height: 1em;\n",
       "  width: 1em;\n",
       "  text-decoration: none !important;\n",
       "  margin-left: 0.5em;\n",
       "  text-align: center;\n",
       "  /* unfitted */\n",
       "  border: var(--sklearn-color-unfitted-level-1) 1pt solid;\n",
       "  color: var(--sklearn-color-unfitted-level-1);\n",
       "}\n",
       "\n",
       ".sk-estimator-doc-link.fitted,\n",
       "a:link.sk-estimator-doc-link.fitted,\n",
       "a:visited.sk-estimator-doc-link.fitted {\n",
       "  /* fitted */\n",
       "  border: var(--sklearn-color-fitted-level-1) 1pt solid;\n",
       "  color: var(--sklearn-color-fitted-level-1);\n",
       "}\n",
       "\n",
       "/* On hover */\n",
       "div.sk-estimator:hover .sk-estimator-doc-link:hover,\n",
       ".sk-estimator-doc-link:hover,\n",
       "div.sk-label-container:hover .sk-estimator-doc-link:hover,\n",
       ".sk-estimator-doc-link:hover {\n",
       "  /* unfitted */\n",
       "  background-color: var(--sklearn-color-unfitted-level-3);\n",
       "  color: var(--sklearn-color-background);\n",
       "  text-decoration: none;\n",
       "}\n",
       "\n",
       "div.sk-estimator.fitted:hover .sk-estimator-doc-link.fitted:hover,\n",
       ".sk-estimator-doc-link.fitted:hover,\n",
       "div.sk-label-container:hover .sk-estimator-doc-link.fitted:hover,\n",
       ".sk-estimator-doc-link.fitted:hover {\n",
       "  /* fitted */\n",
       "  background-color: var(--sklearn-color-fitted-level-3);\n",
       "  color: var(--sklearn-color-background);\n",
       "  text-decoration: none;\n",
       "}\n",
       "\n",
       "/* Span, style for the box shown on hovering the info icon */\n",
       ".sk-estimator-doc-link span {\n",
       "  display: none;\n",
       "  z-index: 9999;\n",
       "  position: relative;\n",
       "  font-weight: normal;\n",
       "  right: .2ex;\n",
       "  padding: .5ex;\n",
       "  margin: .5ex;\n",
       "  width: min-content;\n",
       "  min-width: 20ex;\n",
       "  max-width: 50ex;\n",
       "  color: var(--sklearn-color-text);\n",
       "  box-shadow: 2pt 2pt 4pt #999;\n",
       "  /* unfitted */\n",
       "  background: var(--sklearn-color-unfitted-level-0);\n",
       "  border: .5pt solid var(--sklearn-color-unfitted-level-3);\n",
       "}\n",
       "\n",
       ".sk-estimator-doc-link.fitted span {\n",
       "  /* fitted */\n",
       "  background: var(--sklearn-color-fitted-level-0);\n",
       "  border: var(--sklearn-color-fitted-level-3);\n",
       "}\n",
       "\n",
       ".sk-estimator-doc-link:hover span {\n",
       "  display: block;\n",
       "}\n",
       "\n",
       "/* \"?\"-specific style due to the `<a>` HTML tag */\n",
       "\n",
       "#sk-container-id-1 a.estimator_doc_link {\n",
       "  float: right;\n",
       "  font-size: 1rem;\n",
       "  line-height: 1em;\n",
       "  font-family: monospace;\n",
       "  background-color: var(--sklearn-color-background);\n",
       "  border-radius: 1rem;\n",
       "  height: 1rem;\n",
       "  width: 1rem;\n",
       "  text-decoration: none;\n",
       "  /* unfitted */\n",
       "  color: var(--sklearn-color-unfitted-level-1);\n",
       "  border: var(--sklearn-color-unfitted-level-1) 1pt solid;\n",
       "}\n",
       "\n",
       "#sk-container-id-1 a.estimator_doc_link.fitted {\n",
       "  /* fitted */\n",
       "  border: var(--sklearn-color-fitted-level-1) 1pt solid;\n",
       "  color: var(--sklearn-color-fitted-level-1);\n",
       "}\n",
       "\n",
       "/* On hover */\n",
       "#sk-container-id-1 a.estimator_doc_link:hover {\n",
       "  /* unfitted */\n",
       "  background-color: var(--sklearn-color-unfitted-level-3);\n",
       "  color: var(--sklearn-color-background);\n",
       "  text-decoration: none;\n",
       "}\n",
       "\n",
       "#sk-container-id-1 a.estimator_doc_link.fitted:hover {\n",
       "  /* fitted */\n",
       "  background-color: var(--sklearn-color-fitted-level-3);\n",
       "}\n",
       "</style><div id=\"sk-container-id-1\" class=\"sk-top-container\"><div class=\"sk-text-repr-fallback\"><pre>RandomForestClassifier(random_state=42)</pre><b>In a Jupyter environment, please rerun this cell to show the HTML representation or trust the notebook. <br />On GitHub, the HTML representation is unable to render, please try loading this page with nbviewer.org.</b></div><div class=\"sk-container\" hidden><div class=\"sk-item\"><div class=\"sk-estimator fitted sk-toggleable\"><input class=\"sk-toggleable__control sk-hidden--visually\" id=\"sk-estimator-id-1\" type=\"checkbox\" checked><label for=\"sk-estimator-id-1\" class=\"sk-toggleable__label fitted sk-toggleable__label-arrow\"><div><div>RandomForestClassifier</div></div><div><a class=\"sk-estimator-doc-link fitted\" rel=\"noreferrer\" target=\"_blank\" href=\"https://scikit-learn.org/1.6/modules/generated/sklearn.ensemble.RandomForestClassifier.html\">?<span>Documentation for RandomForestClassifier</span></a><span class=\"sk-estimator-doc-link fitted\">i<span>Fitted</span></span></div></label><div class=\"sk-toggleable__content fitted\"><pre>RandomForestClassifier(random_state=42)</pre></div> </div></div></div></div>"
      ],
      "text/plain": [
       "RandomForestClassifier(random_state=42)"
      ]
     },
     "execution_count": 24,
     "metadata": {},
     "output_type": "execute_result"
    }
   ],
   "source": [
    "#Using RandomForestClassifier model to train the data\n",
    "mod1 = RandomForestClassifier(random_state=42)\n",
    "mod1.fit(X, y)"
   ]
  },
  {
   "cell_type": "code",
   "execution_count": 25,
   "id": "74c58b0e-a16d-4ee8-be33-8fdb7d907e8a",
   "metadata": {},
   "outputs": [
    {
     "data": {
      "image/png": "[encoded data removed]",
      "text/plain": [
       "<Figure size 1000x800 with 1 Axes>"
      ]
     },
     "metadata": {},
     "output_type": "display_data"
    }
   ],
   "source": [
    "#Determing the most influencing features\n",
    "feat_imp = mod1.feature_importances_\n",
    "feat_imp = pa.DataFrame({'Features': X.columns, 'Importance': feat_imp})\n",
    "feat_imp = feat_imp.sort_values(by='Importance', ascending=False)\n",
    "\n",
    "#Plotting the graph\n",
    "pt.figure(figsize=(10, 8))\n",
    "sbn.barplot(x='Importance', y='Features', data=feat_imp.head(10), palette='plasma')\n",
    "pt.title(\"Top Features affecting Academic Performance\")\n",
    "pt.show()"
   ]
  },
  {
   "cell_type": "markdown",
   "id": "60fb0d97-f83c-40fc-bf99-76973c9ddca5",
   "metadata": {},
   "source": [
    "We already knew from the heatmap that 'Avg_Daily_Usage_Hours' has strong positive correlation with 'Affects_Academic_Performance', 'Conflicts_Over_Social_Media' and 'Addicted_Score' labels. Now, from the bar graph above it is clear that with the increase in the value of 'Avg_Daily_Usage_Hours', the values of 'Conflicts_Over_Social_Media' label rises and this rise ultimately is the prime factor for the decrement in the Academic Performance of the students."
   ]
  },
  {
   "cell_type": "markdown",
   "id": "41b517be-e5e3-44ee-8b31-da5a00af43fd",
   "metadata": {},
   "source": [
    "#### Evaluating the metrics for RandomForestClassifier"
   ]
  },
  {
   "cell_type": "code",
   "execution_count": 26,
   "id": "cdf2bf43-d41a-40ff-935c-dc117bfd8411",
   "metadata": {},
   "outputs": [
    {
     "name": "stdout",
     "output_type": "stream",
     "text": [
      "Classification Report:\n",
      "              precision    recall  f1-score   support\n",
      "\n",
      "Not Affected       1.00      1.00      1.00        50\n",
      "    Affected       1.00      1.00      1.00        91\n",
      "\n",
      "    accuracy                           1.00       141\n",
      "   macro avg       1.00      1.00      1.00       141\n",
      "weighted avg       1.00      1.00      1.00       141\n",
      "\n",
      "Confusion Matrix:\n",
      "[[50  0]\n",
      " [ 0 91]]\n",
      "Accuracy Score: 1.00\n"
     ]
    }
   ],
   "source": [
    "#Making Predictions on the basis of 'Affected' and 'Not Affected'\n",
    "y_preds = mod1.predict(X_test)\n",
    "\n",
    "#Printing the evaluation metrics\n",
    "print(\"Classification Report:\")\n",
    "print(classification_report(y_test, y_preds, target_names=['Not Affected', 'Affected']))\n",
    "\n",
    "print(\"Confusion Matrix:\")\n",
    "print(confusion_matrix(y_test, y_preds))\n",
    "\n",
    "print(f\"Accuracy Score: {accuracy_score(y_test, y_preds):.2f}\")\n"
   ]
  },
  {
   "cell_type": "markdown",
   "id": "34f45d2d-cf8e-4ade-951c-b025df3fb652",
   "metadata": {},
   "source": [
    "Overall, we achieved a cent percent accuracy during preditions. Moreover, the evaluation matrix shows that the model correctly identified True Negatives(50), True Positive (91),  zero False Positives and False Negatives. This shows that our model worked perfectly in determining whether the academic performance of the students are truly affected by 'Avg_Daily_Usage_Hours'. But, a cent percent accuracy is normally not attainable. This could be due to one of the followings:\n",
    "* simple and small dataset\n",
    "* dataleaks\n",
    "* data overfitting"
   ]
  },
  {
   "cell_type": "markdown",
   "id": "5901a925-7eb4-46bc-9c5a-95b7f6b7eb80",
   "metadata": {},
   "source": [
    "#### Conclusion"
   ]
  },
  {
   "cell_type": "markdown",
   "id": "50584538-f153-46ce-b32a-d75c618b1854",
   "metadata": {},
   "source": [
    "Social Media :\n",
    "* Students use Instagram and TikTok the most\n",
    "* More than half of the students are in the critical state of addiction with more than 5 hours of daily usage.\n",
    "* Female students use the platforms more than their male counterparts; teenagers being the most.\n",
    "\n",
    "Academic and Social Life\n",
    "* With the increase in social media, the lifestyle and academic performance of the students are hampered.\n",
    "* Daily usage hours, addiction score and mental health are inversely correlated.\n",
    "* Relationship status doesn't play any major facto for addiction.\n",
    "\n",
    "Feature Analysis using RandomForestClassifier\n",
    "* The most important feature that affects the academic growth is Social Media Conflicts which is directly related to daily usage.\n",
    "\n",
    "Recommendations and Guidance\n",
    "* Set a daily usage hour for the platform and prioritize more time for healthy sleeping habits and studies. Less than 5 hours for social media usage.\n",
    "* Develop awareness programs to lower down the social media addiction by balancing the time for social media usage, social activities and well-being.\n",
    "* Academic institutions must guide and aware their students by initiating social media literacy to help the students stay away from social media usage and conflicts emphasizing  more on their academic growth.\n",
    "\n",
    "Future Learnings\n",
    "* New predictive models should be developed to study the digital well-being and social well-being of the students, identify the risks associated with them and develop counter measures to overcome the risks.\n",
    "* Research and identify the behavioral patterns of the students from a large dataset and use these patterns to further analyse the addiction levels and academic growth of the students and try to mitigate the risks as early as possible to safeguard the lives of the students."
   ]
  },
  {
   "cell_type": "code",
   "execution_count": null,
   "id": "b1747e6a-f580-472d-8c51-3f831f6f149b",
   "metadata": {},
   "outputs": [],
   "source": []
  }
 ],
 "metadata": {
  "kernelspec": {
   "display_name": "Python 3 (ipykernel)",
   "language": "python",
   "name": "python3"
  },
  "language_info": {
   "codemirror_mode": {
    "name": "ipython",
    "version": 3
   },
   "file_extension": ".py",
   "mimetype": "text/x-python",
   "name": "python",
   "nbconvert_exporter": "python",
   "pygments_lexer": "ipython3",
   "version": "3.13.5"
  },
  "widgets": {
   "application/vnd.jupyter.widget-state+json": {
    "state": {},
    "version_major": 2,
    "version_minor": 0
   }
  }
 },
 "nbformat": 4,
 "nbformat_minor": 5
}
